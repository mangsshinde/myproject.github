{
 "cells": [
  {
   "cell_type": "markdown",
   "metadata": {},
   "source": [
    "### Q1. Write a Python program to find the sum of all elements in a list using loop.\n",
    "#### Input:- [10,20,30,40]\n",
    "#### Output:- 100"
   ]
  },
  {
   "cell_type": "code",
   "execution_count": 24,
   "metadata": {},
   "outputs": [
    {
     "name": "stdout",
     "output_type": "stream",
     "text": [
      "100\n"
     ]
    }
   ],
   "source": [
    "total = 0\n",
    "list1 = [10,20,30,40]\n",
    "for i in range(0, len(list1)):\n",
    "    total = total + list1[i]\n",
    "print(total)"
   ]
  },
  {
   "cell_type": "markdown",
   "metadata": {},
   "source": [
    "### Q2. Write a Python program to find the multiplication of all elements in a list using loop.\n",
    "#### Input:- [10,20,30,40]\n",
    "#### Output:- 240000\n"
   ]
  },
  {
   "cell_type": "code",
   "execution_count": 32,
   "metadata": {},
   "outputs": [
    {
     "name": "stdout",
     "output_type": "stream",
     "text": [
      "2400000\n"
     ]
    }
   ],
   "source": [
    "a = [10,20,30,40]\n",
    "multiplication = a[0]\n",
    "for i in range(0,len(a)):\n",
    "    multiplication = multiplication * a[i]\n",
    "print(multiplication)\n"
   ]
  },
  {
   "cell_type": "markdown",
   "metadata": {},
   "source": [
    "### Q3. Write a Python program to find the largest number from a list using loop.\n",
    "#### Input:- [10,100,2321, 1,200,2]\n",
    "#### Output:- 2321"
   ]
  },
  {
   "cell_type": "code",
   "execution_count": 6,
   "metadata": {},
   "outputs": [
    {
     "name": "stdout",
     "output_type": "stream",
     "text": [
      "2321\n"
     ]
    }
   ],
   "source": [
    "lst1 = [10,100,2321,1,200,2]\n",
    "ind = 0\n",
    "largest_number_lst1 = lst1[ind]\n",
    "while ind < len(lst1):\n",
    "    if lst1[ind] > largest_number_lst1:\n",
    "        largest_number_lst1 = lst1[ind]\n",
    "    ind = ind +1\n",
    "print(largest_number_lst1)"
   ]
  },
  {
   "cell_type": "markdown",
   "metadata": {},
   "source": [
    "### Q4. Write a Python program to find the smallest number from a list using loop.\n",
    "#### Input:- [10,100,2321,1,200,2]\n",
    "#### Output:- 1"
   ]
  },
  {
   "cell_type": "code",
   "execution_count": 7,
   "metadata": {},
   "outputs": [
    {
     "name": "stdout",
     "output_type": "stream",
     "text": [
      "1\n"
     ]
    }
   ],
   "source": [
    "lst1 = [10,100,2321,1,200,2]\n",
    "ind = 0\n",
    "smallest_number_lst1 = lst1[ind]\n",
    "while ind < len(lst1):\n",
    "    if lst1[ind] < smallest_number_lst1:\n",
    "        smallest_number_lst1 = lst1[ind]\n",
    "    ind = ind +1\n",
    "print(smallest_number_lst1)"
   ]
  },
  {
   "cell_type": "markdown",
   "metadata": {},
   "source": [
    "### Q5. Write a Python program to count the number of strings having length more than 2 and are palindrome in a list using loop.\n",
    "#### Input:- ['ab', 'abc', 'aba', 'xyz', '1991']\n",
    "#### Output:- 2"
   ]
  },
  {
   "cell_type": "code",
   "execution_count": 40,
   "metadata": {},
   "outputs": [
    {
     "name": "stdout",
     "output_type": "stream",
     "text": [
      "2\n"
     ]
    }
   ],
   "source": [
    "lst1 = ['ab', 'abc', 'aba', 'xyz', '1991']\n",
    "ind = 0\n",
    "count_p = 0\n",
    "while ind < len(lst1):\n",
    "        if (len(lst1[ind]) > 2 ) and (lst1[ind] == lst1[ind] [::-1]):\n",
    "            count_p += 1\n",
    "        ind += 1\n",
    "print(count_p)"
   ]
  },
  {
   "cell_type": "markdown",
   "metadata": {},
   "source": [
    "### Q6. Write a Python program to sort a list in ascending order using loop.\n",
    "#### Input:- [100,10,1,298,65,483,49876,2,80,9,9213]\n",
    "#### Output:- [1,2,9,10,65,80,100,298,483,9213,49876]"
   ]
  },
  {
   "cell_type": "code",
   "execution_count": 43,
   "metadata": {},
   "outputs": [
    {
     "name": "stdout",
     "output_type": "stream",
     "text": [
      "[1, 2, 9, 10, 65, 80, 100, 298, 483, 9213, 49876]\n"
     ]
    }
   ],
   "source": [
    "a = [100,10,1,298,65,483,49876,2,80,9,9213]\n",
    "b = []\n",
    "while a:\n",
    "    smallest = a[0]\n",
    "    for item in a:\n",
    "        if item < smallest:\n",
    "            smallest = item\n",
    "    b.append(smallest)\n",
    "    a.remove(smallest)\n",
    "print(b)"
   ]
  },
  {
   "cell_type": "markdown",
   "metadata": {},
   "source": [
    "### Q7. Write a Python program to get a sorted list in increasing order of last element in each tuple in a given list using loop.\n",
    "#### Input:- [(5,4),(9,1),(2,3),(5,9),(7,6),(5,5)]\n",
    "#### output:- [(9,1),(2,3),(5,4),(5,5),(7,6),(5,9)]"
   ]
  },
  {
   "cell_type": "markdown",
   "metadata": {},
   "source": [
    "<!-- ### Q7. Write a Python program to get a sorted list in increasing order of last element in each tuple in a given list using loop. -->\n",
    "<!-- #### Input:- [(5,4),(9,1),(2,3),(5,9),(7,6),(5,5)] -->\n",
    "<!-- #### output:- [(9,1),(2,3),(5,4),(5,5),(7,6),(5,9)] -->"
   ]
  },
  {
   "cell_type": "code",
   "execution_count": 476,
   "metadata": {},
   "outputs": [
    {
     "name": "stdout",
     "output_type": "stream",
     "text": [
      "[(9, 1), (2, 3), (5, 4), (5, 5), (7, 6), (5, 9)]\n"
     ]
    }
   ],
   "source": [
    "a = [(5,4),(9,1),(2,3),(5,9),(7,6),(5,5)]\n",
    "ind = 1\n",
    "for i in range(0, len(a)):  \n",
    "    for j in range(0, len(a)-i-1):  \n",
    "        if (a[j][ind] > a[j + 1][ind]):  \n",
    "            temp      = a[j]  \n",
    "            a    [j]  = a[j + 1]  \n",
    "            a[j + 1]  = temp  \n",
    "print(a)"
   ]
  },
  {
   "cell_type": "markdown",
   "metadata": {},
   "source": [
    "### Q8. Write a Python program to remove duplicate element from a list using loop.\n",
    "#### Input:- [10,1,11,1,29,876,768,10,11,1,92,29,876]\n",
    "#### Output:- [10,1,11,29,876,768,92]"
   ]
  },
  {
   "cell_type": "code",
   "execution_count": 41,
   "metadata": {},
   "outputs": [
    {
     "name": "stdout",
     "output_type": "stream",
     "text": [
      "[10, 1, 11, 29, 876, 768, 92]\n"
     ]
    }
   ],
   "source": [
    "a = [10,1,11,1,29,876,768,10,11,1,92,29,876]\n",
    "b = []\n",
    "for i in a:\n",
    "    if i not in b:\n",
    "        b.append(i)\n",
    "print(b)"
   ]
  },
  {
   "cell_type": "markdown",
   "metadata": {},
   "source": [
    "### Q9. Write a Python program to check a list is empty or not?\n",
    "#### Input:- []\n",
    "#### Output:- List is empty\n",
    "#### Input:- [10,20,30]\n",
    "#### Output:- List is not empty"
   ]
  },
  {
   "cell_type": "code",
   "execution_count": 103,
   "metadata": {},
   "outputs": [
    {
     "name": "stdout",
     "output_type": "stream",
     "text": [
      "List is empty\n"
     ]
    }
   ],
   "source": [
    "a = []\n",
    "if len(a) == 0:\n",
    "    print('List is empty')\n",
    "else:\n",
    "    print('List is not empty')"
   ]
  },
  {
   "cell_type": "code",
   "execution_count": 104,
   "metadata": {},
   "outputs": [
    {
     "name": "stdout",
     "output_type": "stream",
     "text": [
      "List is not empty\n"
     ]
    }
   ],
   "source": [
    "a = [10,20,30]\n",
    "if len(a) == 0:\n",
    "    print('List is empty')\n",
    "else:\n",
    "    print('List is not empty')"
   ]
  },
  {
   "cell_type": "markdown",
   "metadata": {},
   "source": [
    "### Q10. Write a Python program to copy a list using loop.\n",
    "#### inp_lst = [10,10.20,10+20j, 'Python', [10,20], (10,20)]\n",
    "#### out_lst = [10,10.20,10+20j, 'Python', [10,20], (10,20)]"
   ]
  },
  {
   "cell_type": "code",
   "execution_count": 108,
   "metadata": {},
   "outputs": [
    {
     "name": "stdout",
     "output_type": "stream",
     "text": [
      "b is the copied list that contains: [10, 10.2, (10+20j), 'Python', [10, 20], (10, 20)]\n"
     ]
    }
   ],
   "source": [
    "a = [10,10.20,10+20j, 'Python', [10,20], (10,20)]\n",
    "b = []\n",
    "for i in a:\n",
    "    b.append(i)\n",
    "print('b is the copied list that contains:',b)"
   ]
  },
  {
   "cell_type": "markdown",
   "metadata": {},
   "source": [
    "### Q11. Write a Python program to find the list of words that are longer than or equal to 4 from a given string.\n",
    "### Input:- 'How much wood would a woodchuck chuck if a woodchuck could chuck wood'\n",
    "### Output:- ['much', 'wood', 'would', 'woodchuck', 'chuck', 'could']\n",
    "### Note:- Duplicate should be avoided."
   ]
  },
  {
   "cell_type": "code",
   "execution_count": 159,
   "metadata": {},
   "outputs": [
    {
     "name": "stdout",
     "output_type": "stream",
     "text": [
      "['much', 'wood', 'would', 'woodchuck', 'chuck', 'could']\n"
     ]
    }
   ],
   "source": [
    "a = 'How much wood would a woodchuck chuck if a woodchuck could chuck wood' \n",
    "ind = 0\n",
    "b = []\n",
    "while ind < len(a.split()):\n",
    "    if len(a.split()[ind]) >= 4:\n",
    "        b = b + [a.split()[ind]]\n",
    "    ind += 1\n",
    "c = []\n",
    "for i in b:\n",
    "    if i not in c:\n",
    "        c.append(i)\n",
    "print(c)"
   ]
  },
  {
   "cell_type": "markdown",
   "metadata": {},
   "source": [
    "### Q12. Write a Python program which takes two list as input and returns True if they have at least 3 common elements.\n",
    "#### inp_lst1 = [10,20,'Python', 10.20, 10+20j, [10,20,30], (10,20,30)]\n",
    "#### inp_lst2 = [(10,20,30),1,20+3j,100.2, 10+20j, [10,20,30],'Python']\n",
    "#### Output:- True"
   ]
  },
  {
   "cell_type": "code",
   "execution_count": 208,
   "metadata": {},
   "outputs": [
    {
     "name": "stdout",
     "output_type": "stream",
     "text": [
      "True\n"
     ]
    }
   ],
   "source": [
    "a = [10,20,'Python', 10.20, 10+20j, [10,20,30], (10,20,30)]\n",
    "b = [(10,20,30),1,20+3j,100.2, 10+20j, [10,20,30],'Python']\n",
    "ind = 0\n",
    "count_true = 0\n",
    "count_false = 0\n",
    "while ind < len(a):\n",
    "    if a[ind] in b:\n",
    "        count_true += 1\n",
    "    else:\n",
    "        count_false += 1\n",
    "    ind += 1\n",
    "if count_true >= 3:\n",
    "    print('True')"
   ]
  },
  {
   "cell_type": "markdown",
   "metadata": {},
   "source": [
    "### Q13. Write a Python program to create a 4X4 2D matrix with below elements using loop and list comprehension both.\n",
    "#### Output:- [[0,0,0,0],[0,1,2,3],[0,2,4,6],[0,3,6,9]]"
   ]
  },
  {
   "cell_type": "code",
   "execution_count": 395,
   "metadata": {},
   "outputs": [
    {
     "name": "stdout",
     "output_type": "stream",
     "text": [
      "[[0, 0, 0, 0], [0, 1, 2, 3], [0, 2, 4, 6], [0, 3, 6, 9]]\n"
     ]
    }
   ],
   "source": [
    "a = [[m for m in range(4)] for n in range(4)]\n",
    "a[0] = [0,0,0,0]\n",
    "a[2] = [0,2,4,6]\n",
    "a[3] = [0,3,6,9]\n",
    "print(a)"
   ]
  },
  {
   "cell_type": "code",
   "execution_count": 518,
   "metadata": {},
   "outputs": [
    {
     "name": "stdout",
     "output_type": "stream",
     "text": [
      "[0, 0, 0, 0, 0, 1, 1, 1]\n",
      "[0, 0, 0, 0, 0, 2, 2, 2]\n",
      "[0, 0, 0, 0, 0, 3, 3, 3]\n",
      "[0, 0, 0, 0, 0, 4, 4, 4]\n"
     ]
    }
   ],
   "source": [
    "a = [0,0,0,0]\n",
    "b = []\n",
    "ind = 0\n",
    "while ind < len(a):\n",
    "    if len(b) == 0:\n",
    "        b = b +a\n",
    "    ind += 1\n",
    "    for i in range(1,len(b)):\n",
    "        b[i] += 1\n",
    "    print(a+b)"
   ]
  },
  {
   "cell_type": "code",
   "execution_count": null,
   "metadata": {},
   "outputs": [],
   "source": [
    "[[0,0,0,0],[0,1,2,3],[0,2,4,6],[0,3,6,9]]"
   ]
  },
  {
   "cell_type": "markdown",
   "metadata": {},
   "source": [
    "### Q14. Write a Python program to create a 3X4X6 3D matrix wiith below elements using loop\n",
    "#### Output:- \n",
    "[\n",
    "    [[0,0,0,0,0,0],[0,0,0,0,0,0],[0,0,0,0,0,0],[0,0,0,0,0,0]],\n",
    "     [[0,0,0,0,0,0],[1,1,1,1,1,1],[2,2,2,2,2,2],[3,3,3,3,3,3]],\n",
    "     [[0,0,0,0,0,0],[2,2,2,2,2,2],[4,4,4,4,4,4],[6,6,6,6,6,6]]\n",
    " ]"
   ]
  },
  {
   "cell_type": "code",
   "execution_count": 541,
   "metadata": {},
   "outputs": [
    {
     "name": "stdout",
     "output_type": "stream",
     "text": [
      "[[[0, 0, 0, 0, 0, 0], [0, 0, 0, 0, 0, 0], [0, 0, 0, 0, 0, 0], [0, 0, 0, 0, 0, 0]], [[0, 0, 0, 0, 0, 0], [1, 1, 1, 1], [2, 2, 2, 2], [3, 3, 3, 3]], [[0, 0, 0, 0, 0, 0], [2, 2, 2, 2], [4, 4, 4, 4], [6, 6, 6, 6]]]\n"
     ]
    }
   ],
   "source": [
    "a = [[[0 for m in range(0,6,1)] for n in range(0,4,1)] for i in range(0,3,1)]\n",
    "a[1][1] = [1,1,1,1]\n",
    "a[1][2] = [2,2,2,2]\n",
    "a[1][3] = [3,3,3,3]\n",
    "a[2][1] = [2,2,2,2]\n",
    "a[2][2] = [4,4,4,4]\n",
    "a[2][3] = [6,6,6,6]\n",
    "print(a)"
   ]
  },
  {
   "cell_type": "markdown",
   "metadata": {},
   "source": [
    "### Q15. Write a Python program which takes a list of numbers as input and prints a new list after removing even numbers from it.\n",
    "#### Input:- [10,21,22,98,87,45,33,1,2,100]\n",
    "#### Output:- [21,87,45,33,1]"
   ]
  },
  {
   "cell_type": "code",
   "execution_count": 543,
   "metadata": {},
   "outputs": [
    {
     "name": "stdout",
     "output_type": "stream",
     "text": [
      "[21, 87, 45, 33, 1]\n"
     ]
    }
   ],
   "source": [
    "a = [10,21,22,98,87,45,33,1,2,100]\n",
    "b = [i for i in a if i%2 != 0]\n",
    "print(b)"
   ]
  },
  {
   "cell_type": "markdown",
   "metadata": {},
   "source": [
    "### Q16. Write a Python program which takes a list from the user and prints it after reshuffling the elements of the list.\n",
    "#### Input:- [10,21,22,98,87,45,33,1,2,100]\n",
    "#### Output:- [1,87,21,10,33,2,100,45,98,22] (It may be any randon list but with same elements)"
   ]
  },
  {
   "cell_type": "code",
   "execution_count": 455,
   "metadata": {},
   "outputs": [
    {
     "name": "stdout",
     "output_type": "stream",
     "text": [
      "[1, 98, 21, 100, 33, 45, 87, 22, 2, 10]\n"
     ]
    }
   ],
   "source": [
    "import random\n",
    "a = [10,21,22,98,87,45,33,1,2,100]\n",
    "random.shuffle(a)\n",
    "print(a)"
   ]
  }
 ],
 "metadata": {
  "kernelspec": {
   "display_name": "Python 3",
   "language": "python",
   "name": "python3"
  },
  "language_info": {
   "codemirror_mode": {
    "name": "ipython",
    "version": 3
   },
   "file_extension": ".py",
   "mimetype": "text/x-python",
   "name": "python",
   "nbconvert_exporter": "python",
   "pygments_lexer": "ipython3",
   "version": "3.8.5"
  }
 },
 "nbformat": 4,
 "nbformat_minor": 4
}
