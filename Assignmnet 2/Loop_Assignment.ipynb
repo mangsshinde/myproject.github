{
 "cells": [
  {
   "cell_type": "markdown",
   "metadata": {},
   "source": [
    "# Loop Assignment"
   ]
  },
  {
   "cell_type": "markdown",
   "metadata": {},
   "source": [
    "### Q1. W. A P. which takes one number from 0 to 9 from the user and prints it in the word. And if the word is not from 0 to 9 then it should print that number is outside of the range and program should exit. For exapmple:- input = 1, output = one."
   ]
  },
  {
   "cell_type": "code",
   "execution_count": null,
   "metadata": {},
   "outputs": [],
   "source": [
    "num = int(input('Enter a number between the range 0-9: '))\n",
    "if num == 1:\n",
    "    print('One')\n",
    "elif num == 2:\n",
    "    print('Two')\n",
    "elif num == 3:\n",
    "    print('Three')\n",
    "elif num == 4:\n",
    "    print('Four')\n",
    "elif num == 5:\n",
    "    print('Five')\n",
    "elif num == 6:\n",
    "    print('Six')\n",
    "elif num == 7:\n",
    "    print('Seven')\n",
    "elif num == 8:\n",
    "    print('Eight')\n",
    "elif num == 9:\n",
    "    print('Nine')\n",
    "else:\n",
    "    print('The number is not in the range')"
   ]
  },
  {
   "cell_type": "markdown",
   "metadata": {},
   "source": [
    "### Q2. W. A P. to implement calculator but the operation to be done and two numbers will be taken as input from user:- Operation console should show below:- Please select any one operation from below:-\n",
    "* To add enter 1\n",
    "* to subtract enter 2\n",
    "* To multiply enter 3\n",
    "* To divide enter 4\n",
    "* To divide and find quotient enter 5\n",
    "* To divide and find remainder enter 6\n",
    "* To divide and find num1 to the power of num2 enter 7\n",
    "* To Come out of the program enter 8"
   ]
  },
  {
   "cell_type": "code",
   "execution_count": null,
   "metadata": {},
   "outputs": [
    {
     "name": "stdout",
     "output_type": "stream",
     "text": [
      "Please select any one operation from below -\n",
      "To add enter 1\n",
      "To subtract enter 2\n",
      "To multiply enter 3\n",
      "To divide enter 4\n",
      "To divide and find quotient enter 5\n",
      "To divide and find remainder enter 6\n",
      "To divide and find num1 to the power of num2 enter 7\n",
      "To come out of the program enter 8\n",
      "\n",
      "Select: 3\n",
      "Enter first number: 5\n",
      "Enter second number: 4\n",
      "5.0 - 4.0 = 20.0\n",
      "Select: 4\n",
      "Enter first number: 8\n",
      "Enter second number: 4\n",
      "8.0 - 4.0 = 2.0\n",
      "Select: 8\n",
      "Exited from the program\n",
      "Select: 9\n",
      "Invalid Input\n"
     ]
    }
   ],
   "source": [
    "def add (a, b):\n",
    "    return a + b\n",
    "def subtract (a, b):\n",
    "    return a - b\n",
    "def multiply (a, b):\n",
    "    return a * b\n",
    "def divide (a, b):\n",
    "    return a / b\n",
    "def find_the_quotient (a, b):\n",
    "    return a // b\n",
    "def find_the_remainder (a, b):\n",
    "    return a % b\n",
    "def find_num1_to_the_power_of_num2 (a, b):\n",
    "    return a ** b\n",
    "\n",
    "print(\"Please select any one operation from below -\\n\" \n",
    "      \"To add enter 1\\n\"  \n",
    "      \"To subtract enter 2\\n\"  \n",
    "      \"To multiply enter 3\\n\"  \n",
    "      \"To divide enter 4\\n\"\n",
    "      \"To divide and find quotient enter 5\\n\"  \n",
    "      \"To divide and find remainder enter 6\\n\"  \n",
    "      \"To divide and find num1 to the power of num2 enter 7\\n\"  \n",
    "      \"To come out of the program enter 8\\n\")\n",
    "while True:\n",
    "    select = input('Select: ')\n",
    "    if select in ('1', '2', '3', '4'):\n",
    "        a = float(input(\"Enter first number: \"))\n",
    "        b = float(input(\"Enter second number: \"))\n",
    "    if select == '1':\n",
    "        print('The addition of a and b is: ',add (a, b))\n",
    "    elif select == '2':\n",
    "        print('The subtraction of a and b is: ', subtract (a, b))\n",
    "    elif select == '3':\n",
    "        print('The multiplication of a and b is: ', multiply (a, b))\n",
    "    elif select == '4':\n",
    "        print('The division of a and b is: ', divide (a, b))\n",
    "    elif select == '5':\n",
    "        print('The quotient after dividing a with b is: ', find_the_quotient (a, b))\n",
    "    elif select == '6':\n",
    "        print('The remainder after dividing a with b is: ', find_the_remainder (a, b))\n",
    "    elif select == '7':\n",
    "        print('The result of a to the power of b is: ', find_num1_to_the_power_of_num2 (a, b))\n",
    "    elif select == '8':\n",
    "        print('Exited from the program')\n",
    "    else:\n",
    "        print(\"Invalid Input\")"
   ]
  },
  {
   "cell_type": "markdown",
   "metadata": {},
   "source": [
    "### Q3. W. A P to check whether a year entered by user is an leap year or not ? Check with below input:- \n",
    "* leap year:- 2012, 1968, 2004, 1200, 1600, 2400 \n",
    "* Non-lear year:- 1971, 2006, 1700, 1800, 1900"
   ]
  },
  {
   "cell_type": "code",
   "execution_count": 9,
   "metadata": {},
   "outputs": [
    {
     "name": "stdout",
     "output_type": "stream",
     "text": [
      "Enter an year: 1991\n",
      "Year is not a leap year\n"
     ]
    }
   ],
   "source": [
    "Year = int(input('Enter an year: '))\n",
    "if Year % 4 == 0:\n",
    "    if Year % 100 == 0:\n",
    "        if Year % 400 == 0:\n",
    "            print('Year is a leap year')\n",
    "        else:\n",
    "            print('Year is not a leap year')\n",
    "    else:\n",
    "        print('Year is a leap year')\n",
    "else:\n",
    "    print('Year is not a leap year')"
   ]
  },
  {
   "cell_type": "markdown",
   "metadata": {},
   "source": [
    "### Q4. W A P which takes one number from the user and checks whether it is an even or odd number?, If it even then prints number is even number else prints that number is odd number."
   ]
  },
  {
   "cell_type": "code",
   "execution_count": 10,
   "metadata": {},
   "outputs": [
    {
     "name": "stdout",
     "output_type": "stream",
     "text": [
      "Enter the number: 1\n",
      "The number is an oddd number\n"
     ]
    }
   ],
   "source": [
    "a = int(input('Enter the number: '))\n",
    "if a % 2 == 0:\n",
    "    print('The number is an even number')\n",
    "else:\n",
    "    print('The number is an odd number')"
   ]
  },
  {
   "cell_type": "markdown",
   "metadata": {},
   "source": [
    "### Q5. W A P which takes two numbers from the user and prints below output:- \n",
    "1. num1 is greater than num2 if num1 is greater than num2\n",
    "2. num1 is smaller than num2 if num1 is smaller than num2 \n",
    "3. num1 is equal to num2 if num1 and num2 are equal\n",
    "* Note:- 1. Do this problem using if - else\n",
    "        2. Do this using ternary operator"
   ]
  },
  {
   "cell_type": "code",
   "execution_count": 21,
   "metadata": {},
   "outputs": [
    {
     "name": "stdout",
     "output_type": "stream",
     "text": [
      "Enter the 1st number: 5\n",
      "Enter the 2nd number: 5\n",
      "a is equal to b\n"
     ]
    }
   ],
   "source": [
    "a, b = int(input('Enter the 1st number: ')), int(input('Enter the 2nd number: '))\n",
    "if a != b:\n",
    "    if a > b:\n",
    "        print('a is greater than b')\n",
    "    else:\n",
    "        print('a is smaller than b')\n",
    "else:\n",
    "    print('a is equal to b')"
   ]
  },
  {
   "cell_type": "markdown",
   "metadata": {},
   "source": [
    "### Q6. W A P which takes three numbers from the user and prints below output:-\n",
    "1. num1 is greater than num2 and num3 if num1 is greater than num2 and num3\n",
    "2. num2 is greater than num1 and num3 if num2 is greater than num1 and num3\n",
    "3. num3 is greater than num1 and num2 if num3 is greater than num1 and num2\n",
    "* Note:- 1. Do this problem using if - elif - else\n",
    "        2. Do this using ternary operator"
   ]
  },
  {
   "cell_type": "code",
   "execution_count": 27,
   "metadata": {},
   "outputs": [
    {
     "name": "stdout",
     "output_type": "stream",
     "text": [
      "Enter the 1st number: 100\n",
      "Enter the 2nd number: 200\n",
      "Enter the 3rd number: 300\n",
      "300 is greater than both 100 and 200\n"
     ]
    }
   ],
   "source": [
    "a, b , c = int(input('Enter the 1st number: ')), int(input('Enter the 2nd number: ')), int(input('Enter the 3rd number: '))\n",
    "if (a > b) and (a > c):\n",
    "    print(f'{a} is greater than both {b} and {c}')\n",
    "elif (b > a) and (b > c):\n",
    "    print(f'{b} is greater than both {a} and {c}')\n",
    "elif (c > a) and (c > b):\n",
    "    print(f'{c} is greater than both {a} and {b}')"
   ]
  },
  {
   "cell_type": "markdown",
   "metadata": {},
   "source": [
    "## Loops - for loop, while loop"
   ]
  },
  {
   "cell_type": "markdown",
   "metadata": {},
   "source": [
    "### Q7. Write a Python program to find the length of the my_str using loop:-\n",
    "* Input:- 'Write a Python program to find the length of the my_str'\n",
    "* Output:- 55"
   ]
  },
  {
   "cell_type": "code",
   "execution_count": 40,
   "metadata": {},
   "outputs": [
    {
     "name": "stdout",
     "output_type": "stream",
     "text": [
      "The length of the my_str is:  55\n"
     ]
    }
   ],
   "source": [
    "Input = 'Write a Python program to find the length of the my_str'\n",
    "Output = len(Input)\n",
    "print(f'The length of the my_str is: ',Output)"
   ]
  },
  {
   "cell_type": "markdown",
   "metadata": {},
   "source": [
    "### Q8. Write a Python program to find the total number of times letter 'p' is appeared in the below string using loop:-\n",
    "* Input:- 'peter piper picked a pack of pickled peppers.\\n'\n",
    "* Output:- 9"
   ]
  },
  {
   "cell_type": "code",
   "execution_count": 35,
   "metadata": {},
   "outputs": [
    {
     "name": "stdout",
     "output_type": "stream",
     "text": [
      "Total count of \"p\" in the string is =  9\n"
     ]
    }
   ],
   "source": [
    "my_str = \"peter piper picked a pack of pickled peppers.\\n\"\n",
    "count_p = 0\n",
    "for i in my_str:\n",
    "    if i == 'p':\n",
    "        count_p += 1\n",
    "print('Total count of \"p\" in the string is = ',count_p)"
   ]
  },
  {
   "cell_type": "markdown",
   "metadata": {},
   "source": [
    "### Q9. Write a Python Program, to print all the indexes of all occurences of letter 'p' appeared in the string using loop:-\n",
    "* Input:- 'peter piper picked a pack of pickled peppers.'\n",
    "* Output:-\n",
    "* *0*\n",
    "* *6*\n",
    "* *8*\n",
    "* *12*\n",
    "* *21*\n",
    "* *29*\n",
    "* *37*\n",
    "* *39*\n",
    "* *40*"
   ]
  },
  {
   "cell_type": "code",
   "execution_count": 4,
   "metadata": {},
   "outputs": [
    {
     "name": "stdout",
     "output_type": "stream",
     "text": [
      "0\n",
      "6\n",
      "8\n",
      "12\n",
      "21\n",
      "29\n",
      "37\n",
      "39\n",
      "40\n"
     ]
    }
   ],
   "source": [
    "my_str = 'peter piper picked a pack of pickled peppers'\n",
    "ind = 0\n",
    "while ind < len(my_str):\n",
    "    if my_str[ind] == 'p':\n",
    "        print(ind)\n",
    "    ind += 1\n",
    "    "
   ]
  },
  {
   "cell_type": "markdown",
   "metadata": {},
   "source": [
    "### Q10. Write a python program to find below output using loop:-\n",
    "* Input:- 'peter piper picked a peck of pickled peppers.'\n",
    "* Output:- ['peter', 'piper' , 'picked' , 'a' , 'peck' , 'of' , 'pickled' , 'peppers' ]"
   ]
  },
  {
   "cell_type": "code",
   "execution_count": null,
   "metadata": {},
   "outputs": [],
   "source": [
    "# my_str = 'peter piper picked a peck of pickled peppers '\n",
    "# ind = 0\n",
    "# string = ''\n",
    "# while ind < len(my_str):\n",
    "#     if my_str[ind] == ' ':\n",
    "#         string = my_str[:ind:1]\n",
    "#         print(string) \n",
    "# ind += 1"
   ]
  },
  {
   "cell_type": "markdown",
   "metadata": {},
   "source": [
    "### Q11. Write a python program to find below output using loop:-\n",
    "Input:- 'peter piper picked a peck of pickled peppers.'\n",
    "Output:- 'peppers pickled of peck a picked piper peter'"
   ]
  },
  {
   "cell_type": "code",
   "execution_count": 13,
   "metadata": {},
   "outputs": [
    {
     "ename": "AttributeError",
     "evalue": "'str' object has no attribute 'append'",
     "output_type": "error",
     "traceback": [
      "\u001b[1;31m---------------------------------------------------------------------------\u001b[0m",
      "\u001b[1;31mAttributeError\u001b[0m                            Traceback (most recent call last)",
      "\u001b[1;32m<ipython-input-13-4c334add5e3b>\u001b[0m in \u001b[0;36m<module>\u001b[1;34m\u001b[0m\n\u001b[0;32m      5\u001b[0m     \u001b[0moutput_string\u001b[0m \u001b[1;33m=\u001b[0m \u001b[0moutput_string\u001b[0m \u001b[1;33m+\u001b[0m \u001b[0mmy_str\u001b[0m\u001b[1;33m[\u001b[0m\u001b[0mind\u001b[0m\u001b[1;33m]\u001b[0m\u001b[1;33m\u001b[0m\u001b[1;33m\u001b[0m\u001b[0m\n\u001b[0;32m      6\u001b[0m     \u001b[0mind\u001b[0m \u001b[1;33m-=\u001b[0m \u001b[1;36m1\u001b[0m\u001b[1;33m\u001b[0m\u001b[1;33m\u001b[0m\u001b[0m\n\u001b[1;32m----> 7\u001b[1;33m     \u001b[0moutput_string\u001b[0m\u001b[1;33m.\u001b[0m\u001b[0mappend\u001b[0m\u001b[1;33m(\u001b[0m\u001b[0moutput_string\u001b[0m\u001b[1;33m)\u001b[0m\u001b[1;33m\u001b[0m\u001b[1;33m\u001b[0m\u001b[0m\n\u001b[0m\u001b[0;32m      8\u001b[0m     \u001b[0mmy_str\u001b[0m\u001b[1;33m.\u001b[0m\u001b[0mremove\u001b[0m\u001b[1;33m(\u001b[0m\u001b[0moutput_string\u001b[0m\u001b[1;33m)\u001b[0m\u001b[1;33m\u001b[0m\u001b[1;33m\u001b[0m\u001b[0m\n\u001b[0;32m      9\u001b[0m \u001b[0mprint\u001b[0m\u001b[1;33m(\u001b[0m\u001b[0moutput_string\u001b[0m\u001b[1;33m)\u001b[0m\u001b[1;33m\u001b[0m\u001b[1;33m\u001b[0m\u001b[0m\n",
      "\u001b[1;31mAttributeError\u001b[0m: 'str' object has no attribute 'append'"
     ]
    }
   ],
   "source": [
    "my_str = 'peter piper picked a peck of pickled peppers'\n",
    "output_string = ''\n",
    "ind = -1\n",
    "while ind >= (-len(my_str)):\n",
    "    output_string = output_string + my_str[ind]\n",
    "    ind -= 1\n",
    "    output_string.append(output_string)\n",
    "    my_str.remove(output_string)\n",
    "print(output_string)"
   ]
  },
  {
   "cell_type": "code",
   "execution_count": null,
   "metadata": {},
   "outputs": [],
   "source": []
  },
  {
   "cell_type": "code",
   "execution_count": null,
   "metadata": {},
   "outputs": [],
   "source": []
  },
  {
   "cell_type": "code",
   "execution_count": null,
   "metadata": {},
   "outputs": [],
   "source": []
  },
  {
   "cell_type": "code",
   "execution_count": null,
   "metadata": {},
   "outputs": [],
   "source": []
  }
 ],
 "metadata": {
  "kernelspec": {
   "display_name": "Python 3",
   "language": "python",
   "name": "python3"
  },
  "language_info": {
   "codemirror_mode": {
    "name": "ipython",
    "version": 3
   },
   "file_extension": ".py",
   "mimetype": "text/x-python",
   "name": "python",
   "nbconvert_exporter": "python",
   "pygments_lexer": "ipython3",
   "version": "3.8.5"
  }
 },
 "nbformat": 4,
 "nbformat_minor": 4
}
