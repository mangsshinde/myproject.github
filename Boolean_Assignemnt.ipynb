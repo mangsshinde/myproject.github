{
 "cells": [
  {
   "cell_type": "markdown",
   "metadata": {},
   "source": [
    "### Q1. Declare a boolean value and store it in a variable. Check the type and print the id of the same."
   ]
  },
  {
   "cell_type": "code",
   "execution_count": 61,
   "metadata": {},
   "outputs": [
    {
     "name": "stdout",
     "output_type": "stream",
     "text": [
      "<class 'bool'> The id of a is 140721635120976\n"
     ]
    }
   ],
   "source": [
    "a = True\n",
    "b = type(a)\n",
    "print(b,\"The id of a is\",id(a))"
   ]
  },
  {
   "cell_type": "markdown",
   "metadata": {},
   "source": [
    "### Q2. Take one boolean value between 0 - 256. Assign it to two different variables. Check the id of both the variables. It should come the same. Check why?"
   ]
  },
  {
   "cell_type": "code",
   "execution_count": 58,
   "metadata": {},
   "outputs": [
    {
     "name": "stdout",
     "output_type": "stream",
     "text": [
      "The id of a is 140721635120976\n",
      "The id of a is 140721635120976\n"
     ]
    }
   ],
   "source": [
    "a = bool(45)\n",
    "b = bool(45)\n",
    "print(\"The id of a is\",id(a))\n",
    "print(\"The id of a is\",id(b))"
   ]
  },
  {
   "cell_type": "markdown",
   "metadata": {},
   "source": [
    "For intergers < 256, the values are pre-loaded into the memory. Therefore both variables will have same id."
   ]
  },
  {
   "cell_type": "markdown",
   "metadata": {},
   "source": [
    "### Q3. Arithmetic Operations on boolean data. Take two different boolean values. Store them in two different variables."
   ]
  },
  {
   "cell_type": "code",
   "execution_count": 1,
   "metadata": {},
   "outputs": [
    {
     "name": "stdout",
     "output_type": "stream",
     "text": [
      "Sum of a and b is  1\n",
      "Difference between a and b is  -1\n",
      "Product of a and b is  0\n",
      "The value after dividing a with b is 0.0\n",
      "The remainder after dividing a with b is 0\n",
      "The quotient after dividing a with b is 0\n",
      "The result of a to the power of b is 0\n"
     ]
    }
   ],
   "source": [
    "a = False\n",
    "b = True\n",
    "# Q3.1. Find sum of both values.\n",
    "c = a+b\n",
    "print(\"Sum of a and b is \",a+b)\n",
    "# Q3.2. Find difference between them.\n",
    "d = a-b\n",
    "print(\"Difference between a and b is \",a-b)\n",
    "# Q3.3. Find the product of both.\n",
    "e = a*b\n",
    "print(\"Product of a and b is \",a*b)\n",
    "# Q3.4. Find value after dividing first value with second value.\n",
    "f = a/b\n",
    "print(\"The value after dividing a with b is\",a/b)\n",
    "# Q3.5. Find the remainder after dividing first value with second value.\n",
    "g = a%b\n",
    "print(\"The remainder after dividing a with b is\",a%b)\n",
    "# Q3.6. Find the quotient after dividing first value with second value.\n",
    "h = a//b\n",
    "print(\"The quotient after dividing a with b is\",a//b)\n",
    "# Q3.7. Find the result of first value to the power of second value.\n",
    "i = a**b\n",
    "print(\"The result of a to the power of b is\",a**b)"
   ]
  },
  {
   "cell_type": "markdown",
   "metadata": {},
   "source": [
    "### Q4. Comparison Operators on boolean values. Take two different boolean values. Store them in two different variables."
   ]
  },
  {
   "cell_type": "code",
   "execution_count": 37,
   "metadata": {},
   "outputs": [
    {
     "name": "stdout",
     "output_type": "stream",
     "text": [
      "False\n",
      "True\n",
      "False\n",
      "True\n"
     ]
    }
   ],
   "source": [
    "x = True\n",
    "y = False\n",
    "# Q4.1. Greater than, '>'.\n",
    "c = a>b\n",
    "print(c)\n",
    "# Q4.2. Less than, '>'.\n",
    "d = a<b\n",
    "print(d)\n",
    "# Q4.3. Greater than or equal to, '>='.\n",
    "e = a>=b\n",
    "print(e)\n",
    "# Q4.4. Less than or equal to, '<='.\n",
    "f = a<=b\n",
    "print(f)"
   ]
  },
  {
   "cell_type": "markdown",
   "metadata": {},
   "source": [
    "### Q5. Equality Operator. Take two different boolean values.Store them in two different variables."
   ]
  },
  {
   "cell_type": "code",
   "execution_count": 38,
   "metadata": {},
   "outputs": [
    {
     "name": "stdout",
     "output_type": "stream",
     "text": [
      "False\n",
      "True\n"
     ]
    }
   ],
   "source": [
    "p = False\n",
    "q = True\n",
    "c = p==q\n",
    "print(c)\n",
    "d = p!=q\n",
    "print(d)"
   ]
  },
  {
   "cell_type": "markdown",
   "metadata": {},
   "source": [
    "### Q6. Logical operators. Observe the output of below code. Cross check the output manually."
   ]
  },
  {
   "cell_type": "code",
   "execution_count": 39,
   "metadata": {},
   "outputs": [
    {
     "name": "stdout",
     "output_type": "stream",
     "text": [
      "True\n",
      "False\n",
      "False\n",
      "False\n",
      "True\n",
      "True\n",
      "True\n",
      "False\n",
      "False\n",
      "True\n"
     ]
    }
   ],
   "source": [
    "print ( True and True )\n",
    "print ( False and True )\n",
    "print ( True and False )\n",
    "print ( False and False )\n",
    "print ( True or True )\n",
    "print ( False or True )\n",
    "print ( True or False )\n",
    "print ( False or False )\n",
    "print ( not True )\n",
    "print ( not False )"
   ]
  },
  {
   "cell_type": "markdown",
   "metadata": {},
   "source": [
    "### Q7. Bitwise Operators. Do below operations on the values provided below:-"
   ]
  },
  {
   "cell_type": "code",
   "execution_count": 43,
   "metadata": {},
   "outputs": [
    {
     "name": "stdout",
     "output_type": "stream",
     "text": [
      "True\n",
      "True\n",
      "True\n",
      "-2\n",
      "4\n",
      "0\n"
     ]
    }
   ],
   "source": [
    "print(True&True)\n",
    "print(True|False)\n",
    "print(True^False)\n",
    "print(~True)\n",
    "print(True<<2)\n",
    "print(True>>2)"
   ]
  },
  {
   "cell_type": "markdown",
   "metadata": {},
   "source": [
    "### Q8. What is the output of expression inside the print statement. Cross check before running the program."
   ]
  },
  {
   "cell_type": "code",
   "execution_count": 45,
   "metadata": {},
   "outputs": [
    {
     "name": "stdout",
     "output_type": "stream",
     "text": [
      "True\n",
      "False\n",
      "True\n",
      "False\n"
     ]
    }
   ],
   "source": [
    "a = True\n",
    "b = True\n",
    "print(a is b)\n",
    "print(a is not b)\n",
    "a = False\n",
    "b = False\n",
    "print(a is b)\n",
    "print(a is not b)"
   ]
  },
  {
   "cell_type": "markdown",
   "metadata": {},
   "source": [
    "### Q9. Membership operation. in, not in are two membership operators and it returns boolean value"
   ]
  },
  {
   "cell_type": "code",
   "execution_count": 46,
   "metadata": {},
   "outputs": [
    {
     "name": "stdout",
     "output_type": "stream",
     "text": [
      "True\n",
      "True\n",
      "True\n",
      "True\n",
      "True\n"
     ]
    }
   ],
   "source": [
    "print ( True in [ 10 , 10.20 , 10 + 20j , 'Python' , True ])\n",
    "print ( False in ( 10 , 10.20 , 10 + 20j , 'Python' , False ))\n",
    "print ( True in { 1 , 2 , 3 , True })\n",
    "print ( True in { True : 100 , False : 200 , True : 300 })\n",
    "print ( False in { True : 100 , False : 200 , True : 300 })"
   ]
  }
 ],
 "metadata": {
  "kernelspec": {
   "display_name": "Python 3",
   "language": "python",
   "name": "python3"
  },
  "language_info": {
   "codemirror_mode": {
    "name": "ipython",
    "version": 3
   },
   "file_extension": ".py",
   "mimetype": "text/x-python",
   "name": "python",
   "nbconvert_exporter": "python",
   "pygments_lexer": "ipython3",
   "version": "3.8.5"
  }
 },
 "nbformat": 4,
 "nbformat_minor": 4
}
