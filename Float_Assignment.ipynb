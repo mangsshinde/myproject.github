{
 "cells": [
  {
   "cell_type": "markdown",
   "metadata": {},
   "source": [
    "### Q1. Declare a float value and store it in a variable. Check the type and print the id of the same."
   ]
  },
  {
   "cell_type": "code",
   "execution_count": 1,
   "metadata": {},
   "outputs": [
    {
     "name": "stdout",
     "output_type": "stream",
     "text": [
      "<class 'float'> The id of a is 2713318490928\n"
     ]
    }
   ],
   "source": [
    "a = 5.12\n",
    "b = type(a)\n",
    "print(b,\"The id of a is\",id(a))"
   ]
  },
  {
   "cell_type": "markdown",
   "metadata": {},
   "source": [
    "### Q2. Arithmetic Operations on float. Take two different float values. Store them in two different variables."
   ]
  },
  {
   "cell_type": "code",
   "execution_count": 3,
   "metadata": {},
   "outputs": [
    {
     "name": "stdout",
     "output_type": "stream",
     "text": [
      "The sum of a and b is 11.51\n",
      "Difference between a amd b is -1.4900000000000002\n",
      "The product of a amd b is 32.565\n",
      "The value after dividing a by b is 0.7707692307692308\n",
      "The remainder after dividing a by b is 5.01\n",
      "The quotient after dividing a by b is 0.0\n",
      "The result of a to the power of b is 35395.26907100723\n"
     ]
    }
   ],
   "source": [
    "a = 5.01\n",
    "b = 6.5\n",
    "# Q2.1. Find sum of both numbers.\n",
    "c = a + b\n",
    "print(\"The sum of a and b is\",a+b)\n",
    "# Q2.2. Find difference between them.\n",
    "d = a - b\n",
    "print(\"Difference between a amd b is\",a-b)\n",
    "# Q2.3. Find the product of both numbers.\n",
    "e = a * b\n",
    "print(\"The product of a amd b is\",a*b)\n",
    "# Q2.4. Find value after dividing first num with second number.\n",
    "f = a/b\n",
    "print(\"The value after dividing a by b is\",a/b)\n",
    "# Q2.5. Find the remainder after dividing first number with second number.\n",
    "f = a%b\n",
    "print(\"The remainder after dividing a by b is\",a%b)\n",
    "# Q2.6. Find the quotient after dividing first number with second number.\n",
    "g = a//b\n",
    "print(\"The quotient after dividing a by b is\",a//b)\n",
    "# Q2.7. Find the result of the first num to the power of the second number..\n",
    "g = a**b\n",
    "print(\"The result of a to the power of b is\",a**b)"
   ]
  },
  {
   "cell_type": "markdown",
   "metadata": {},
   "source": [
    "### Q3. Comparison Operators on float. Take two different float values. Store them in two different variables."
   ]
  },
  {
   "cell_type": "code",
   "execution_count": 4,
   "metadata": {},
   "outputs": [
    {
     "name": "stdout",
     "output_type": "stream",
     "text": [
      "False\n",
      "True\n",
      "False\n",
      "True\n"
     ]
    }
   ],
   "source": [
    "x = 1.3\n",
    "y = 2.2\n",
    "# Q3.1. Greater than, '>'.\n",
    "c = a>b\n",
    "print(c)\n",
    "# Q3.2. Less than, '<'.\n",
    "d = a<b\n",
    "print(d)\n",
    "# Q3.3. Greater than or equal to, '>='.\n",
    "e = a>=b\n",
    "print(e)\n",
    "# Q3.4. Less than or equal to, '<='.\n",
    "f = a<=b\n",
    "print(f)"
   ]
  },
  {
   "cell_type": "markdown",
   "metadata": {},
   "source": [
    "### Q4. Equality Operator. Take two different float values. Store them in two different variables. Equate them using equality operators (==, !=) Observe the output(return type should be boolean)"
   ]
  },
  {
   "cell_type": "code",
   "execution_count": 5,
   "metadata": {},
   "outputs": [
    {
     "name": "stdout",
     "output_type": "stream",
     "text": [
      "False\n",
      "True\n"
     ]
    }
   ],
   "source": [
    "a = 3.2\n",
    "b = 2.3\n",
    "c = a==b\n",
    "print(c)\n",
    "d = a!=b\n",
    "print(d)"
   ]
  },
  {
   "cell_type": "markdown",
   "metadata": {},
   "source": [
    "### Q5. Logical operators.Observe the output of below code. Cross check the output manually"
   ]
  },
  {
   "cell_type": "code",
   "execution_count": 9,
   "metadata": {},
   "outputs": [
    {
     "name": "stdout",
     "output_type": "stream",
     "text": [
      "20.3\n",
      "0.0\n",
      "0.0\n",
      "0.0\n",
      "10.2\n",
      "20.3\n",
      "20.3\n",
      "0.0\n",
      "False\n",
      "True\n"
     ]
    }
   ],
   "source": [
    "print ( 10.20 and 20.30 )\n",
    "print ( 0.0 and 20.30 )\n",
    "print ( 20.30 and 0.0 )\n",
    "print ( 0.0 and 0.0 )\n",
    "print ( 10.20 or 20.30 )\n",
    "print ( 0.0 or 20.30 )\n",
    "print ( 20.30 or 0.0 )\n",
    "print ( 0.0 or 0.0 )\n",
    "print ( not 10.20 )\n",
    "print ( not 0.0 )"
   ]
  },
  {
   "cell_type": "markdown",
   "metadata": {},
   "source": [
    "### Q6. What is the output of expression inside print statement. Cross check before running the program."
   ]
  },
  {
   "cell_type": "code",
   "execution_count": 1,
   "metadata": {},
   "outputs": [
    {
     "name": "stdout",
     "output_type": "stream",
     "text": [
      "False\n",
      "True\n",
      "1968559653680 1968559530032\n"
     ]
    }
   ],
   "source": [
    "a = 10.20\n",
    "b = 10.20\n",
    "print (a is b)\n",
    "print (a is not b)\n",
    "print(id(a),id(b))"
   ]
  },
  {
   "cell_type": "markdown",
   "metadata": {},
   "source": [
    "#### Why the Id of float values are different when the same value is assigned to two different variables?"
   ]
  },
  {
   "cell_type": "markdown",
   "metadata": {},
   "source": [
    "The float value containing variable may contain same data but reason behind ths is mathematical rules. Only the two value after the point are considered & remaining are value get neglected."
   ]
  },
  {
   "cell_type": "markdown",
   "metadata": {},
   "source": [
    "### Q7. Bitwise operation is not applicable between instances of float."
   ]
  },
  {
   "cell_type": "markdown",
   "metadata": {},
   "source": [
    "### Q8. Membership operation. in, not in are two membership operators and it returns boolean value"
   ]
  },
  {
   "cell_type": "code",
   "execution_count": 7,
   "metadata": {},
   "outputs": [
    {
     "name": "stdout",
     "output_type": "stream",
     "text": [
      "True\n",
      "True\n",
      "True\n",
      "True\n",
      "True\n",
      "True\n"
     ]
    }
   ],
   "source": [
    "print ( '2.7' in 'Python2.7.8' )\n",
    "print ( 10.20 in [ 10 , 10.20 , 10 + 20j , 'Python' ])\n",
    "print ( 10.20 in ( 10 , 10.20 , 10 + 20j , 'Python' ))\n",
    "print ( 20.30 in { 1 , 20.30 , 30 + 40j })\n",
    "print ( 2.3 in { 1 : 100 , 2.3 : 200 , 30 + 40j : 300 })\n",
    "print ( 10 in range ( 20 ))"
   ]
  }
 ],
 "metadata": {
  "kernelspec": {
   "display_name": "Python 3",
   "language": "python",
   "name": "python3"
  },
  "language_info": {
   "codemirror_mode": {
    "name": "ipython",
    "version": 3
   },
   "file_extension": ".py",
   "mimetype": "text/x-python",
   "name": "python",
   "nbconvert_exporter": "python",
   "pygments_lexer": "ipython3",
   "version": "3.8.5"
  }
 },
 "nbformat": 4,
 "nbformat_minor": 4
}
