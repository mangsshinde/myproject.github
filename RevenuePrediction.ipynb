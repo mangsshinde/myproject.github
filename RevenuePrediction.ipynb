{
 "cells": [
  {
   "cell_type": "code",
   "execution_count": 65,
   "metadata": {},
   "outputs": [],
   "source": [
    "import numpy as np\n",
    "import pandas as pd\n",
    "import seaborn as sns\n",
    "import matplotlib.pyplot as plt\n",
    "from sklearn.model_selection import train_test_split\n",
    "from sklearn.linear_model import LinearRegression\n",
    "from sklearn.tree import DecisionTreeRegressor\n",
    "from sklearn.ensemble import RandomForestRegressor, AdaBoostRegressor, GradientBoostingRegressor\n",
    "from sklearn.metrics import r2_score\n",
    "from sklearn.model_selection import cross_val_predict\n",
    "from sklearn.metrics import mean_squared_error\n",
    "from math import sqrt\n",
    "from sklearn.model_selection import cross_val_predict"
   ]
  },
  {
   "cell_type": "code",
   "execution_count": 2,
   "metadata": {},
   "outputs": [],
   "source": [
    "df = pd.read_csv('G:\\MangeshDataScience\\Practice\\WorkEx\\MarketSegmentation/store.csv')"
   ]
  },
  {
   "cell_type": "code",
   "execution_count": 3,
   "metadata": {},
   "outputs": [
    {
     "data": {
      "text/html": [
       "<div>\n",
       "<style scoped>\n",
       "    .dataframe tbody tr th:only-of-type {\n",
       "        vertical-align: middle;\n",
       "    }\n",
       "\n",
       "    .dataframe tbody tr th {\n",
       "        vertical-align: top;\n",
       "    }\n",
       "\n",
       "    .dataframe thead th {\n",
       "        text-align: right;\n",
       "    }\n",
       "</style>\n",
       "<table border=\"1\" class=\"dataframe\">\n",
       "  <thead>\n",
       "    <tr style=\"text-align: right;\">\n",
       "      <th></th>\n",
       "      <th>reps</th>\n",
       "      <th>product</th>\n",
       "      <th>qty</th>\n",
       "      <th>revenue</th>\n",
       "      <th>region</th>\n",
       "    </tr>\n",
       "  </thead>\n",
       "  <tbody>\n",
       "    <tr>\n",
       "      <th>0</th>\n",
       "      <td>Chitra</td>\n",
       "      <td>Galaxy</td>\n",
       "      <td>2</td>\n",
       "      <td>155.10</td>\n",
       "      <td>West</td>\n",
       "    </tr>\n",
       "    <tr>\n",
       "      <th>1</th>\n",
       "      <td>Vijay</td>\n",
       "      <td>Jet</td>\n",
       "      <td>2</td>\n",
       "      <td>39.30</td>\n",
       "      <td>North</td>\n",
       "    </tr>\n",
       "    <tr>\n",
       "      <th>2</th>\n",
       "      <td>Mala</td>\n",
       "      <td>Beacon</td>\n",
       "      <td>3</td>\n",
       "      <td>74.25</td>\n",
       "      <td>West</td>\n",
       "    </tr>\n",
       "    <tr>\n",
       "      <th>3</th>\n",
       "      <td>Suman</td>\n",
       "      <td>Alpen</td>\n",
       "      <td>3</td>\n",
       "      <td>100.98</td>\n",
       "      <td>North</td>\n",
       "    </tr>\n",
       "    <tr>\n",
       "      <th>4</th>\n",
       "      <td>Rachna</td>\n",
       "      <td>Orbit</td>\n",
       "      <td>2</td>\n",
       "      <td>44.98</td>\n",
       "      <td>North</td>\n",
       "    </tr>\n",
       "  </tbody>\n",
       "</table>\n",
       "</div>"
      ],
      "text/plain": [
       "     reps product  qty  revenue region\n",
       "0  Chitra  Galaxy    2   155.10   West\n",
       "1   Vijay     Jet    2    39.30  North\n",
       "2    Mala  Beacon    3    74.25   West\n",
       "3   Suman   Alpen    3   100.98  North\n",
       "4  Rachna   Orbit    2    44.98  North"
      ]
     },
     "execution_count": 3,
     "metadata": {},
     "output_type": "execute_result"
    }
   ],
   "source": [
    "df.head()"
   ]
  },
  {
   "cell_type": "code",
   "execution_count": 4,
   "metadata": {},
   "outputs": [
    {
     "name": "stdout",
     "output_type": "stream",
     "text": [
      "<class 'pandas.core.frame.DataFrame'>\n",
      "RangeIndex: 10000 entries, 0 to 9999\n",
      "Data columns (total 5 columns):\n",
      " #   Column   Non-Null Count  Dtype  \n",
      "---  ------   --------------  -----  \n",
      " 0   reps     10000 non-null  object \n",
      " 1   product  10000 non-null  object \n",
      " 2   qty      10000 non-null  int64  \n",
      " 3   revenue  10000 non-null  float64\n",
      " 4   region   10000 non-null  object \n",
      "dtypes: float64(1), int64(1), object(3)\n",
      "memory usage: 390.8+ KB\n"
     ]
    }
   ],
   "source": [
    "df.info()"
   ]
  },
  {
   "cell_type": "markdown",
   "metadata": {},
   "source": [
    "### Detecting outliers"
   ]
  },
  {
   "cell_type": "code",
   "execution_count": 5,
   "metadata": {},
   "outputs": [
    {
     "data": {
      "text/html": [
       "<div>\n",
       "<style scoped>\n",
       "    .dataframe tbody tr th:only-of-type {\n",
       "        vertical-align: middle;\n",
       "    }\n",
       "\n",
       "    .dataframe tbody tr th {\n",
       "        vertical-align: top;\n",
       "    }\n",
       "\n",
       "    .dataframe thead th {\n",
       "        text-align: right;\n",
       "    }\n",
       "</style>\n",
       "<table border=\"1\" class=\"dataframe\">\n",
       "  <thead>\n",
       "    <tr style=\"text-align: right;\">\n",
       "      <th></th>\n",
       "      <th>qty</th>\n",
       "      <th>revenue</th>\n",
       "    </tr>\n",
       "  </thead>\n",
       "  <tbody>\n",
       "    <tr>\n",
       "      <th>count</th>\n",
       "      <td>10000.000000</td>\n",
       "      <td>10000.000000</td>\n",
       "    </tr>\n",
       "    <tr>\n",
       "      <th>mean</th>\n",
       "      <td>3.387400</td>\n",
       "      <td>90.570221</td>\n",
       "    </tr>\n",
       "    <tr>\n",
       "      <th>std</th>\n",
       "      <td>4.318308</td>\n",
       "      <td>127.803928</td>\n",
       "    </tr>\n",
       "    <tr>\n",
       "      <th>min</th>\n",
       "      <td>1.000000</td>\n",
       "      <td>18.430000</td>\n",
       "    </tr>\n",
       "    <tr>\n",
       "      <th>1%</th>\n",
       "      <td>1.000000</td>\n",
       "      <td>19.350000</td>\n",
       "    </tr>\n",
       "    <tr>\n",
       "      <th>5%</th>\n",
       "      <td>1.000000</td>\n",
       "      <td>21.000000</td>\n",
       "    </tr>\n",
       "    <tr>\n",
       "      <th>10%</th>\n",
       "      <td>1.000000</td>\n",
       "      <td>22.950000</td>\n",
       "    </tr>\n",
       "    <tr>\n",
       "      <th>25%</th>\n",
       "      <td>2.000000</td>\n",
       "      <td>39.300000</td>\n",
       "    </tr>\n",
       "    <tr>\n",
       "      <th>50%</th>\n",
       "      <td>2.000000</td>\n",
       "      <td>58.425000</td>\n",
       "    </tr>\n",
       "    <tr>\n",
       "      <th>75%</th>\n",
       "      <td>3.000000</td>\n",
       "      <td>75.000000</td>\n",
       "    </tr>\n",
       "    <tr>\n",
       "      <th>85%</th>\n",
       "      <td>3.000000</td>\n",
       "      <td>100.980000</td>\n",
       "    </tr>\n",
       "    <tr>\n",
       "      <th>90%</th>\n",
       "      <td>4.000000</td>\n",
       "      <td>159.900000</td>\n",
       "    </tr>\n",
       "    <tr>\n",
       "      <th>99%</th>\n",
       "      <td>23.000000</td>\n",
       "      <td>616.728600</td>\n",
       "    </tr>\n",
       "    <tr>\n",
       "      <th>max</th>\n",
       "      <td>25.000000</td>\n",
       "      <td>1998.750000</td>\n",
       "    </tr>\n",
       "  </tbody>\n",
       "</table>\n",
       "</div>"
      ],
      "text/plain": [
       "                qty       revenue\n",
       "count  10000.000000  10000.000000\n",
       "mean       3.387400     90.570221\n",
       "std        4.318308    127.803928\n",
       "min        1.000000     18.430000\n",
       "1%         1.000000     19.350000\n",
       "5%         1.000000     21.000000\n",
       "10%        1.000000     22.950000\n",
       "25%        2.000000     39.300000\n",
       "50%        2.000000     58.425000\n",
       "75%        3.000000     75.000000\n",
       "85%        3.000000    100.980000\n",
       "90%        4.000000    159.900000\n",
       "99%       23.000000    616.728600\n",
       "max       25.000000   1998.750000"
      ]
     },
     "execution_count": 5,
     "metadata": {},
     "output_type": "execute_result"
    }
   ],
   "source": [
    "df.describe(percentiles=[0.01, 0.05, 0.10, 0.25, 0.50, 0.75, 0.85, 0.90, 0.99])"
   ]
  },
  {
   "cell_type": "code",
   "execution_count": 6,
   "metadata": {},
   "outputs": [],
   "source": [
    "# There seem to be no outliers in the numerical columns"
   ]
  },
  {
   "cell_type": "markdown",
   "metadata": {},
   "source": [
    "### Splitting into dependent and independent values"
   ]
  },
  {
   "cell_type": "code",
   "execution_count": 7,
   "metadata": {},
   "outputs": [],
   "source": [
    "X = df.drop(['revenue'], axis = 1)\n",
    "y = df['revenue']"
   ]
  },
  {
   "cell_type": "code",
   "execution_count": 8,
   "metadata": {},
   "outputs": [
    {
     "data": {
      "text/html": [
       "<div>\n",
       "<style scoped>\n",
       "    .dataframe tbody tr th:only-of-type {\n",
       "        vertical-align: middle;\n",
       "    }\n",
       "\n",
       "    .dataframe tbody tr th {\n",
       "        vertical-align: top;\n",
       "    }\n",
       "\n",
       "    .dataframe thead th {\n",
       "        text-align: right;\n",
       "    }\n",
       "</style>\n",
       "<table border=\"1\" class=\"dataframe\">\n",
       "  <thead>\n",
       "    <tr style=\"text-align: right;\">\n",
       "      <th></th>\n",
       "      <th>reps</th>\n",
       "      <th>product</th>\n",
       "      <th>qty</th>\n",
       "      <th>region</th>\n",
       "    </tr>\n",
       "  </thead>\n",
       "  <tbody>\n",
       "    <tr>\n",
       "      <th>0</th>\n",
       "      <td>Chitra</td>\n",
       "      <td>Galaxy</td>\n",
       "      <td>2</td>\n",
       "      <td>West</td>\n",
       "    </tr>\n",
       "    <tr>\n",
       "      <th>1</th>\n",
       "      <td>Vijay</td>\n",
       "      <td>Jet</td>\n",
       "      <td>2</td>\n",
       "      <td>North</td>\n",
       "    </tr>\n",
       "    <tr>\n",
       "      <th>2</th>\n",
       "      <td>Mala</td>\n",
       "      <td>Beacon</td>\n",
       "      <td>3</td>\n",
       "      <td>West</td>\n",
       "    </tr>\n",
       "    <tr>\n",
       "      <th>3</th>\n",
       "      <td>Suman</td>\n",
       "      <td>Alpen</td>\n",
       "      <td>3</td>\n",
       "      <td>North</td>\n",
       "    </tr>\n",
       "    <tr>\n",
       "      <th>4</th>\n",
       "      <td>Rachna</td>\n",
       "      <td>Orbit</td>\n",
       "      <td>2</td>\n",
       "      <td>North</td>\n",
       "    </tr>\n",
       "  </tbody>\n",
       "</table>\n",
       "</div>"
      ],
      "text/plain": [
       "     reps product  qty region\n",
       "0  Chitra  Galaxy    2   West\n",
       "1   Vijay     Jet    2  North\n",
       "2    Mala  Beacon    3   West\n",
       "3   Suman   Alpen    3  North\n",
       "4  Rachna   Orbit    2  North"
      ]
     },
     "execution_count": 8,
     "metadata": {},
     "output_type": "execute_result"
    }
   ],
   "source": [
    "X.head()"
   ]
  },
  {
   "cell_type": "markdown",
   "metadata": {},
   "source": [
    "### Converting into categorical variables"
   ]
  },
  {
   "cell_type": "code",
   "execution_count": 12,
   "metadata": {},
   "outputs": [
    {
     "data": {
      "text/plain": [
       "Index(['reps', 'product', 'qty', 'region'], dtype='object')"
      ]
     },
     "execution_count": 12,
     "metadata": {},
     "output_type": "execute_result"
    }
   ],
   "source": [
    "X.columns.unique()"
   ]
  },
  {
   "cell_type": "code",
   "execution_count": 13,
   "metadata": {},
   "outputs": [
    {
     "data": {
      "text/plain": [
       "Seet       353\n",
       "Rachna     318\n",
       "Santosh    318\n",
       "Aash       315\n",
       "Vish       308\n",
       "          ... \n",
       "Ram         84\n",
       "Jay         84\n",
       "Anusha      82\n",
       "Sesh        81\n",
       "Rohini      79\n",
       "Name: reps, Length: 72, dtype: int64"
      ]
     },
     "execution_count": 13,
     "metadata": {},
     "output_type": "execute_result"
    }
   ],
   "source": [
    "X.reps.value_counts()"
   ]
  },
  {
   "cell_type": "code",
   "execution_count": 16,
   "metadata": {},
   "outputs": [],
   "source": [
    "from sklearn.preprocessing import LabelEncoder\n",
    "df_col = list(X.columns)\n",
    "for i in range(len(df_col)):\n",
    "    X[df_col[i]] = LabelEncoder().fit_transform(X[df_col[i]])"
   ]
  },
  {
   "cell_type": "code",
   "execution_count": 17,
   "metadata": {},
   "outputs": [
    {
     "data": {
      "text/html": [
       "<div>\n",
       "<style scoped>\n",
       "    .dataframe tbody tr th:only-of-type {\n",
       "        vertical-align: middle;\n",
       "    }\n",
       "\n",
       "    .dataframe tbody tr th {\n",
       "        vertical-align: top;\n",
       "    }\n",
       "\n",
       "    .dataframe thead th {\n",
       "        text-align: right;\n",
       "    }\n",
       "</style>\n",
       "<table border=\"1\" class=\"dataframe\">\n",
       "  <thead>\n",
       "    <tr style=\"text-align: right;\">\n",
       "      <th></th>\n",
       "      <th>reps</th>\n",
       "      <th>product</th>\n",
       "      <th>qty</th>\n",
       "      <th>region</th>\n",
       "    </tr>\n",
       "  </thead>\n",
       "  <tbody>\n",
       "    <tr>\n",
       "      <th>0</th>\n",
       "      <td>12</td>\n",
       "      <td>3</td>\n",
       "      <td>1</td>\n",
       "      <td>3</td>\n",
       "    </tr>\n",
       "    <tr>\n",
       "      <th>1</th>\n",
       "      <td>70</td>\n",
       "      <td>5</td>\n",
       "      <td>1</td>\n",
       "      <td>1</td>\n",
       "    </tr>\n",
       "    <tr>\n",
       "      <th>2</th>\n",
       "      <td>28</td>\n",
       "      <td>2</td>\n",
       "      <td>2</td>\n",
       "      <td>3</td>\n",
       "    </tr>\n",
       "    <tr>\n",
       "      <th>3</th>\n",
       "      <td>60</td>\n",
       "      <td>1</td>\n",
       "      <td>2</td>\n",
       "      <td>1</td>\n",
       "    </tr>\n",
       "    <tr>\n",
       "      <th>4</th>\n",
       "      <td>41</td>\n",
       "      <td>8</td>\n",
       "      <td>1</td>\n",
       "      <td>1</td>\n",
       "    </tr>\n",
       "  </tbody>\n",
       "</table>\n",
       "</div>"
      ],
      "text/plain": [
       "   reps  product  qty  region\n",
       "0    12        3    1       3\n",
       "1    70        5    1       1\n",
       "2    28        2    2       3\n",
       "3    60        1    2       1\n",
       "4    41        8    1       1"
      ]
     },
     "execution_count": 17,
     "metadata": {},
     "output_type": "execute_result"
    }
   ],
   "source": [
    "X.head()"
   ]
  },
  {
   "cell_type": "code",
   "execution_count": 20,
   "metadata": {},
   "outputs": [
    {
     "name": "stdout",
     "output_type": "stream",
     "text": [
      "[12 70 28 60 41  0 10 62  7 56 48  5  4 17 49 30 52 42 45 38 37 50 46 57\n",
      " 58  8 64 47 14 39 26 63  3 61 29 34 53 55 66 36  6 16 71 25 20  9 15  2\n",
      " 51 22 35 54 68 67 43 11 21 44 65 19 33 40 23 69  1 13 27 31 18 59 32 24] [ 3  5  2  1  8 11  6  7  0  9 10  4] [ 1  2  0  3  8 23 14 10 17  6 24 19 20 18 15 11  7  4 13 21  9 16 12 22\n",
      "  5] [3 1 0 2] "
     ]
    }
   ],
   "source": [
    "for i in X.columns:\n",
    "    print(X[i].unique(), end = \" \")"
   ]
  },
  {
   "cell_type": "markdown",
   "metadata": {},
   "source": [
    "### Splitting into train and test datasets"
   ]
  },
  {
   "cell_type": "code",
   "execution_count": 21,
   "metadata": {},
   "outputs": [],
   "source": [
    "X_train, X_test, y_train, y_test = train_test_split(X, y, test_size=0.25, random_state=1)"
   ]
  },
  {
   "cell_type": "code",
   "execution_count": 22,
   "metadata": {},
   "outputs": [
    {
     "name": "stdout",
     "output_type": "stream",
     "text": [
      "Shape of Training Data (7500, 4)\n",
      "Shape of Testing Data (2500, 4)\n",
      "Response Rate in Training Data 91.19812533333324\n",
      "Response Rate in Testing Data 88.68650800000032\n"
     ]
    }
   ],
   "source": [
    "print(\"Shape of Training Data\",X_train.shape)\n",
    "print(\"Shape of Testing Data\",X_test.shape)\n",
    "print(\"Response Rate in Training Data\",y_train.mean())\n",
    "print(\"Response Rate in Testing Data\",y_test.mean())"
   ]
  },
  {
   "cell_type": "code",
   "execution_count": 35,
   "metadata": {},
   "outputs": [],
   "source": [
    "def print_score(reg, X_train, y_train, X_test, y_test, train = True):\n",
    "    if train:\n",
    "        pred = reg.predict(X_train)\n",
    "        print('Train Result: ')\n",
    "        print(f'Training Accuracy for {reg}: {r2_score(y_train, pred)*100:.2f}%')\n",
    "        print('RMSE for Training Data: ',sqrt(mean_squared_error(y_train, pred)))\n",
    "    elif train == False:\n",
    "        pred = reg.predict(X_test)\n",
    "        print('\\nTest Result: ')\n",
    "        print(f'Testing Accuracy for {reg} : {r2_score(y_test, pred)*100:.2f}%')\n",
    "        print('RMSE for Testing Data: ',sqrt(mean_squared_error(y_test, pred)))"
   ]
  },
  {
   "cell_type": "code",
   "execution_count": 36,
   "metadata": {},
   "outputs": [
    {
     "name": "stdout",
     "output_type": "stream",
     "text": [
      "Train Result: \n",
      "Training Accuracy for LinearRegression(): 79.36%\n",
      "RMSE for Training Data:  58.18337375227301\n",
      "\n",
      "Test Result: \n",
      "Testing Accuracy for LinearRegression() : 85.08%\n",
      "RMSE for Testing Data:  49.020134458606364\n"
     ]
    }
   ],
   "source": [
    "reg = LinearRegression()\n",
    "reg.fit(X_train, y_train)\n",
    "print_score(reg, X_train, y_train, X_test, y_test, train = True)\n",
    "print_score(reg, X_train, y_train, X_test, y_test, train = False)"
   ]
  },
  {
   "cell_type": "code",
   "execution_count": 66,
   "metadata": {},
   "outputs": [],
   "source": [
    "def print_score(reg, X_train, y_train, X_test, y_test, train = True):\n",
    "    if train:\n",
    "        pred = reg.predict(X_train)\n",
    "        print(f'Train Result for {reg}: ')\n",
    "        scores = [r2_score(y_train, pred)*100, sqrt(mean_squared_error(y_train, pred))]\n",
    "        table_data = {'Scores':scores}\n",
    "        column_names= ['Accuracy Score', 'Mean Squared Error']\n",
    "        RegressionReport = pd.DataFrame(data= table_data, index = column_names )\n",
    "        print('Regression Report: ', RegressionReport)\n",
    "    elif train == False:\n",
    "        pred = reg.predict(X_test)\n",
    "        print(f'\\nTest Result for {reg}: ')\n",
    "        scores = [r2_score(y_test, pred)*100, sqrt(mean_squared_error(y_test, pred))]\n",
    "        table_data = {'Scores':scores}\n",
    "        column_names= ['Accuracy Score', 'Mean Squared Error']\n",
    "        RegressionReport = pd.DataFrame(data= table_data, index = column_names)\n",
    "        print('Regression Report: ', RegressionReport)"
   ]
  },
  {
   "cell_type": "markdown",
   "metadata": {},
   "source": [
    "### 1. Linear Regression"
   ]
  },
  {
   "cell_type": "code",
   "execution_count": 67,
   "metadata": {},
   "outputs": [
    {
     "name": "stdout",
     "output_type": "stream",
     "text": [
      "Train Result for LinearRegression(): \n",
      "Regression Report:                         Scores\n",
      "Accuracy Score      79.364811\n",
      "Mean Squared Error  58.183374\n",
      "\n",
      "Test Result for LinearRegression(): \n",
      "Regression Report:                         Scores\n",
      "Accuracy Score      85.081763\n",
      "Mean Squared Error  49.020134\n"
     ]
    }
   ],
   "source": [
    "print_score(reg, X_train, y_train, X_test, y_test, train = True)\n",
    "print_score(reg, X_train, y_train, X_test, y_test, train = False)"
   ]
  },
  {
   "cell_type": "markdown",
   "metadata": {},
   "source": [
    "### 2. Decision Tree"
   ]
  },
  {
   "cell_type": "code",
   "execution_count": 73,
   "metadata": {},
   "outputs": [
    {
     "data": {
      "text/plain": [
       "DecisionTreeRegressor()"
      ]
     },
     "execution_count": 73,
     "metadata": {},
     "output_type": "execute_result"
    }
   ],
   "source": [
    "dec_tree = DecisionTreeRegressor(criterion='mse', splitter='best', max_depth=None,)\n",
    "dec_tree.fit(X_train, y_train)"
   ]
  },
  {
   "cell_type": "code",
   "execution_count": 74,
   "metadata": {},
   "outputs": [
    {
     "name": "stdout",
     "output_type": "stream",
     "text": [
      "Train Result for DecisionTreeRegressor(): \n",
      "Regression Report:                         Scores\n",
      "Accuracy Score      99.997408\n",
      "Mean Squared Error   0.652116\n",
      "\n",
      "Test Result for DecisionTreeRegressor(): \n",
      "Regression Report:                         Scores\n",
      "Accuracy Score      99.878499\n",
      "Mean Squared Error   4.423913\n"
     ]
    }
   ],
   "source": [
    "print_score(dec_tree, X_train, y_train, X_test, y_test, train = True)\n",
    "print_score(dec_tree, X_train, y_train, X_test, y_test, train = False)"
   ]
  },
  {
   "cell_type": "markdown",
   "metadata": {},
   "source": [
    "### 3. Random Forest"
   ]
  },
  {
   "cell_type": "code",
   "execution_count": 78,
   "metadata": {},
   "outputs": [
    {
     "data": {
      "text/plain": [
       "RandomForestRegressor(max_depth=5)"
      ]
     },
     "execution_count": 78,
     "metadata": {},
     "output_type": "execute_result"
    }
   ],
   "source": [
    "rf = RandomForestRegressor(n_estimators=100, max_depth= 5)\n",
    "rf.fit(X_train, y_train)"
   ]
  },
  {
   "cell_type": "code",
   "execution_count": 79,
   "metadata": {},
   "outputs": [
    {
     "name": "stdout",
     "output_type": "stream",
     "text": [
      "Train Result for RandomForestRegressor(max_depth=5): \n",
      "Regression Report:                         Scores\n",
      "Accuracy Score      98.232978\n",
      "Mean Squared Error  17.026118\n",
      "\n",
      "Test Result for RandomForestRegressor(max_depth=5): \n",
      "Regression Report:                         Scores\n",
      "Accuracy Score      97.909872\n",
      "Mean Squared Error  18.348569\n"
     ]
    }
   ],
   "source": [
    "print_score(rf, X_train, y_train, X_test, y_test, train= True)\n",
    "print_score(rf, X_train, y_train, X_test, y_test, train= False)"
   ]
  },
  {
   "cell_type": "markdown",
   "metadata": {},
   "source": [
    "### 4. Decision Tree with hyperparameters"
   ]
  },
  {
   "cell_type": "code",
   "execution_count": 83,
   "metadata": {},
   "outputs": [
    {
     "name": "stdout",
     "output_type": "stream",
     "text": [
      "Fitting 3 folds for each of 2166 candidates, totalling 6498 fits\n",
      "Best paramters: {'max_depth': 15, 'min_samples_leaf': 1, 'min_samples_split': 4, 'splitter': 'best'})\n"
     ]
    },
    {
     "data": {
      "text/plain": [
       "DecisionTreeRegressor(max_depth=15, min_samples_split=4)"
      ]
     },
     "execution_count": 83,
     "metadata": {},
     "output_type": "execute_result"
    }
   ],
   "source": [
    "from sklearn.model_selection import GridSearchCV\n",
    "params = { \n",
    "    \"splitter\":(\"best\", \"random\"), \n",
    "    \"max_depth\":(list(range(1, 20))), \n",
    "    \"min_samples_split\":[2, 3, 4], \n",
    "    \"min_samples_leaf\":list(range(1, 20)), \n",
    "}\n",
    "\n",
    "\n",
    "tree_clf = DecisionTreeRegressor(random_state=42)\n",
    "tree_cv = GridSearchCV(tree_clf, params, n_jobs=-1, verbose=1, cv=3)\n",
    "tree_cv.fit(X_train, y_train)\n",
    "best_params = tree_cv.best_params_\n",
    "print(f\"Best paramters: {best_params})\")\n",
    "\n",
    "tree_clf = DecisionTreeRegressor(**best_params)\n",
    "tree_clf.fit(X_train, y_train)"
   ]
  },
  {
   "cell_type": "code",
   "execution_count": 84,
   "metadata": {},
   "outputs": [
    {
     "name": "stdout",
     "output_type": "stream",
     "text": [
      "Train Result for DecisionTreeRegressor(max_depth=15, min_samples_split=4): \n",
      "Regression Report:                         Scores\n",
      "Accuracy Score      99.968155\n",
      "Mean Squared Error   2.285671\n",
      "\n",
      "Test Result for DecisionTreeRegressor(max_depth=15, min_samples_split=4): \n",
      "Regression Report:                         Scores\n",
      "Accuracy Score      99.883422\n",
      "Mean Squared Error   4.333356\n"
     ]
    }
   ],
   "source": [
    "print_score(tree_clf, X_train, y_train, X_test, y_test, train= True)\n",
    "print_score(tree_clf, X_train, y_train, X_test, y_test, train= False)"
   ]
  },
  {
   "cell_type": "markdown",
   "metadata": {},
   "source": [
    "### 5. Random Forest"
   ]
  },
  {
   "cell_type": "code",
   "execution_count": 85,
   "metadata": {},
   "outputs": [
    {
     "name": "stdout",
     "output_type": "stream",
     "text": [
      "Fitting 3 folds for each of 48 candidates, totalling 144 fits\n",
      "Best parameters: {'max_depth': None, 'max_features': 'auto', 'n_estimators': 1000}\n"
     ]
    },
    {
     "data": {
      "text/plain": [
       "RandomForestRegressor(n_estimators=1000)"
      ]
     },
     "execution_count": 85,
     "metadata": {},
     "output_type": "execute_result"
    }
   ],
   "source": [
    "n_estimators = [100, 500, 1000, 1500]\n",
    "max_features = ['auto', 'sqrt']\n",
    "max_depth = [2,3,4,5,6]\n",
    "max_depth.append(None)\n",
    "#min_samples_split = [2, 5, 10]\n",
    "#min_samples_leaf = [1, 2, 4, 10]\n",
    "\n",
    "\n",
    "params_grid = {'n_estimators': n_estimators, 'max_features': max_features,\n",
    "               'max_depth': max_depth} #'min_samples_split': min_samples_split,\n",
    "               #'min_samples_leaf': min_samples_leaf}\n",
    "\n",
    "\n",
    "rf_clf = RandomForestRegressor(random_state=42)\n",
    "\n",
    "rf_cv = GridSearchCV(rf_clf, params_grid, cv=3, verbose=2,n_jobs = -1)\n",
    "\n",
    "\n",
    "rf_cv.fit(X_train, y_train)\n",
    "best_params = rf_cv.best_params_\n",
    "print(f\"Best parameters: {best_params}\")\n",
    "\n",
    "rf_clf = RandomForestRegressor(**best_params)\n",
    "rf_clf.fit(X_train, y_train)"
   ]
  },
  {
   "cell_type": "code",
   "execution_count": 86,
   "metadata": {},
   "outputs": [
    {
     "name": "stdout",
     "output_type": "stream",
     "text": [
      "Train Result for RandomForestRegressor(n_estimators=1000): \n",
      "Regression Report:                         Scores\n",
      "Accuracy Score      99.963011\n",
      "Mean Squared Error   2.463363\n",
      "\n",
      "Test Result for RandomForestRegressor(n_estimators=1000): \n",
      "Regression Report:                         Scores\n",
      "Accuracy Score      99.869707\n",
      "Mean Squared Error   4.581160\n"
     ]
    }
   ],
   "source": [
    "print_score(rf_clf, X_train, y_train, X_test, y_test, train=True)\n",
    "print_score(rf_clf, X_train, y_train, X_test, y_test, train=False)"
   ]
  },
  {
   "cell_type": "markdown",
   "metadata": {},
   "source": [
    "### 6. Support Vector Machine Regressor"
   ]
  },
  {
   "cell_type": "code",
   "execution_count": 91,
   "metadata": {},
   "outputs": [
    {
     "data": {
      "text/plain": [
       "SVR()"
      ]
     },
     "execution_count": 91,
     "metadata": {},
     "output_type": "execute_result"
    }
   ],
   "source": [
    "from sklearn.svm import SVR\n",
    "svm_reg = SVR()\n",
    "svm_reg.fit(X_train, y_train)"
   ]
  },
  {
   "cell_type": "code",
   "execution_count": 92,
   "metadata": {},
   "outputs": [
    {
     "name": "stdout",
     "output_type": "stream",
     "text": [
      "Train Result for SVR(): \n",
      "Regression Report:                         Scores\n",
      "Accuracy Score      46.193896\n",
      "Mean Squared Error  93.952956\n",
      "\n",
      "Test Result for SVR(): \n",
      "Regression Report:                         Scores\n",
      "Accuracy Score      47.824981\n",
      "Mean Squared Error  91.674186\n"
     ]
    }
   ],
   "source": [
    "print_score(svm_reg, X_train, y_train, X_test, y_test, train=True)\n",
    "print_score(svm_reg, X_train, y_train, X_test, y_test, train=False)"
   ]
  },
  {
   "cell_type": "markdown",
   "metadata": {},
   "source": [
    "### 7. AdaBoost Classifier"
   ]
  },
  {
   "cell_type": "code",
   "execution_count": 93,
   "metadata": {},
   "outputs": [
    {
     "data": {
      "text/plain": [
       "AdaBoostRegressor()"
      ]
     },
     "execution_count": 93,
     "metadata": {},
     "output_type": "execute_result"
    }
   ],
   "source": [
    "adb = AdaBoostRegressor()\n",
    "adb.fit(X_train, y_train)"
   ]
  },
  {
   "cell_type": "code",
   "execution_count": 94,
   "metadata": {},
   "outputs": [
    {
     "name": "stdout",
     "output_type": "stream",
     "text": [
      "Train Result for AdaBoostRegressor(): \n",
      "Regression Report:                         Scores\n",
      "Accuracy Score      90.921731\n",
      "Mean Squared Error  38.591904\n",
      "\n",
      "Test Result for AdaBoostRegressor(): \n",
      "Regression Report:                         Scores\n",
      "Accuracy Score      91.179036\n",
      "Mean Squared Error  37.694135\n"
     ]
    }
   ],
   "source": [
    "print_score(adb, X_train, y_train, X_test, y_test, train=True)\n",
    "print_score(adb, X_train, y_train, X_test, y_test, train=False)"
   ]
  },
  {
   "cell_type": "markdown",
   "metadata": {},
   "source": [
    "### 8. Gradient Boosting"
   ]
  },
  {
   "cell_type": "code",
   "execution_count": 95,
   "metadata": {},
   "outputs": [
    {
     "data": {
      "text/plain": [
       "GradientBoostingRegressor()"
      ]
     },
     "execution_count": 95,
     "metadata": {},
     "output_type": "execute_result"
    }
   ],
   "source": [
    "gbx = GradientBoostingRegressor()\n",
    "gbx.fit(X_train, y_train)"
   ]
  },
  {
   "cell_type": "code",
   "execution_count": 96,
   "metadata": {},
   "outputs": [
    {
     "name": "stdout",
     "output_type": "stream",
     "text": [
      "Train Result for GradientBoostingRegressor(): \n",
      "Regression Report:                         Scores\n",
      "Accuracy Score      99.438139\n",
      "Mean Squared Error   9.600837\n",
      "\n",
      "Test Result for GradientBoostingRegressor(): \n",
      "Regression Report:                         Scores\n",
      "Accuracy Score      99.364391\n",
      "Mean Squared Error  10.118374\n"
     ]
    }
   ],
   "source": [
    "print_score(gbx, X_train, y_train, X_test, y_test, train=True)\n",
    "print_score(gbx, X_train, y_train, X_test, y_test, train=False)"
   ]
  }
 ],
 "metadata": {
  "kernelspec": {
   "display_name": "Python 3",
   "language": "python",
   "name": "python3"
  },
  "language_info": {
   "codemirror_mode": {
    "name": "ipython",
    "version": 3
   },
   "file_extension": ".py",
   "mimetype": "text/x-python",
   "name": "python",
   "nbconvert_exporter": "python",
   "pygments_lexer": "ipython3",
   "version": "3.8.5"
  }
 },
 "nbformat": 4,
 "nbformat_minor": 4
}
