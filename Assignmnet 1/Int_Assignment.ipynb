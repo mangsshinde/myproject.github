{
 "cells": [
  {
   "cell_type": "markdown",
   "metadata": {},
   "source": [
    "### Q1. Declare an int value and store it in a variable. Check the type and print the id of the same."
   ]
  },
  {
   "cell_type": "code",
   "execution_count": 2,
   "metadata": {},
   "outputs": [
    {
     "name": "stdout",
     "output_type": "stream",
     "text": [
      "<class 'int'> The id of b is 140708920698944\n"
     ]
    }
   ],
   "source": [
    "a = 10\n",
    "b = type(a)\n",
    "print(b,\"The id of b is\",id(a))"
   ]
  },
  {
   "cell_type": "markdown",
   "metadata": {},
   "source": [
    "### Q2. Take one int value between 0 - 256. Assign it to two different variables. Check the id of both the variables. It should come the same. Check why?"
   ]
  },
  {
   "cell_type": "code",
   "execution_count": 3,
   "metadata": {
    "scrolled": true
   },
   "outputs": [
    {
     "name": "stdout",
     "output_type": "stream",
     "text": [
      "140708920698784\n",
      "140708920698944\n"
     ]
    }
   ],
   "source": [
    "a = 5\n",
    "b = 10\n",
    "print(id(a))\n",
    "print(id(b))"
   ]
  },
  {
   "cell_type": "markdown",
   "metadata": {},
   "source": [
    "### Q3. Take one int value either less than -5 or greater than 256. Assign it to two different variables. Check the id of both the variables. It should come different. Check why?"
   ]
  },
  {
   "cell_type": "code",
   "execution_count": 8,
   "metadata": {},
   "outputs": [
    {
     "name": "stdout",
     "output_type": "stream",
     "text": [
      "2962350045424\n",
      "2962350046704\n"
     ]
    }
   ],
   "source": [
    "a = 258\n",
    "b = 258\n",
    "print(id(a))\n",
    "print(id(b))"
   ]
  },
  {
   "cell_type": "markdown",
   "metadata": {},
   "source": [
    "These are actually the effects of CPython optimization we are observing here. CPython implementation keeps an array of integer objects for all integers between -5 and 256. However, this implementation does not keep array of integer objects for integers less than -5 and greater than 256."
   ]
  },
  {
   "cell_type": "markdown",
   "metadata": {},
   "source": [
    "### Q4. Arithmetic Operations on integers. Take two different integer values. Store them in two different variables."
   ]
  },
  {
   "cell_type": "code",
   "execution_count": 18,
   "metadata": {},
   "outputs": [
    {
     "name": "stdout",
     "output_type": "stream",
     "text": [
      "The sum of p and q is 12\n",
      "The difference between p and q is 4\n",
      "The product of p and q is 32\n",
      "The value after dividing p with q is 2.0\n",
      "The remainder after dividing p with q is 0\n",
      "The quotient after dividing p with q is 2\n",
      "The the result of p to the power of q is 4096\n"
     ]
    }
   ],
   "source": [
    "p = 8\n",
    "q = 4\n",
    "# Q4.1. Find sum of both numbers.\n",
    "c = p + q\n",
    "print(\"The sum of p and q is\",p+q)\n",
    "# Q4.2. Find difference between them.\n",
    "d = p - q\n",
    "print(\"The difference between p and q is\",p-q)\n",
    "# Q4.3. Find the product of both numbers.\n",
    "e = p * q\n",
    "print(\"The product of p and q is\",p*q)\n",
    "# Q4.4. Find value after dividing first num with second number.\n",
    "f = p / q\n",
    "print(\"The value after dividing p with q is\",p/q)\n",
    "# Q4.5. Find the remainder after dividing first number with second number.\n",
    "g = p % q\n",
    "print(\"The remainder after dividing p with q is\",p%q)\n",
    "# Q4.6. Find the quotient after dividing first number with second number.\n",
    "h = p // q\n",
    "print(\"The quotient after dividing p with q is\",p//q)\n",
    "# Q4.7. Find the result of the first num to the power of the second number.\n",
    "i = p ** q\n",
    "print(\"The the result of p to the power of q is\",p**q)"
   ]
  },
  {
   "cell_type": "markdown",
   "metadata": {},
   "source": [
    "### Q5. Comparison Operators on integers. Take two different integer values..Store them in two different variables. Do below operations on them:-"
   ]
  },
  {
   "cell_type": "code",
   "execution_count": 23,
   "metadata": {},
   "outputs": [
    {
     "name": "stdout",
     "output_type": "stream",
     "text": [
      "True\n",
      "False\n",
      "True\n",
      "False\n"
     ]
    }
   ],
   "source": [
    "a = 20\n",
    "b = 15\n",
    "# Q5.1. Greater than, '>'\n",
    "c = a>b\n",
    "print(c)\n",
    "# Q5.2. Smaller than, '<'\n",
    "d = a<b\n",
    "print(d)\n",
    "# Q5.3. Greater than or equal to, '>='\n",
    "e = a>=b\n",
    "print(e)\n",
    "# Q5.4. Less than or equal to, '<='\n",
    "f = a<=b\n",
    "print(f)"
   ]
  },
  {
   "cell_type": "markdown",
   "metadata": {},
   "source": [
    "### Q6. Equality Operator. Take two different integer values. Store them in two different variables. Equate them using equality operators (==, !=) Observe the output(return type should be boolean)"
   ]
  },
  {
   "cell_type": "code",
   "execution_count": 24,
   "metadata": {},
   "outputs": [
    {
     "name": "stdout",
     "output_type": "stream",
     "text": [
      "False\n",
      "True\n"
     ]
    }
   ],
   "source": [
    "x = 10\n",
    "y = 30\n",
    "c = a==b\n",
    "print(c)\n",
    "d = a!=b\n",
    "print(d)"
   ]
  },
  {
   "cell_type": "markdown",
   "metadata": {},
   "source": [
    "### Q7. Logical operators. Observe the output of below code. Cross check the output manually"
   ]
  },
  {
   "cell_type": "code",
   "execution_count": 34,
   "metadata": {},
   "outputs": [
    {
     "name": "stdout",
     "output_type": "stream",
     "text": [
      "20\n",
      "0\n",
      "0\n",
      "0\n",
      "10\n",
      "20\n",
      "20\n",
      "0\n",
      "False\n",
      "True\n"
     ]
    }
   ],
   "source": [
    "print ( 10 and 20 )\n",
    "print ( 0 and 20 )\n",
    "print ( 20 and 0 )\n",
    "print ( 0 and 0 )\n",
    "print ( 10 or 20 )\n",
    "print ( 0 or 20 )\n",
    "print ( 20 or 0 )\n",
    "print ( 0 or 0 )\n",
    "print ( not 10 )\n",
    "print ( not 0 )"
   ]
  },
  {
   "cell_type": "markdown",
   "metadata": {},
   "source": [
    "### Q8. Bitwise Operators. Do below operations on the values provided below:-"
   ]
  },
  {
   "cell_type": "code",
   "execution_count": 40,
   "metadata": {},
   "outputs": [
    {
     "name": "stdout",
     "output_type": "stream",
     "text": [
      "0\n",
      "30\n",
      "30\n",
      "-11\n",
      "40\n",
      "2\n"
     ]
    }
   ],
   "source": [
    "print(10 & 20)\n",
    "print(10 | 20)\n",
    "print(10 ^ 20)\n",
    "print(~10)\n",
    "print(10 << 2)\n",
    "print(10 >> 2)"
   ]
  },
  {
   "cell_type": "markdown",
   "metadata": {},
   "source": [
    "### Q9. What is the output of expression inside print statement. Cross check before running the program."
   ]
  },
  {
   "cell_type": "code",
   "execution_count": 43,
   "metadata": {},
   "outputs": [
    {
     "name": "stdout",
     "output_type": "stream",
     "text": [
      "True\n",
      "False\n",
      "False\n",
      "True\n"
     ]
    }
   ],
   "source": [
    "a = 10\n",
    "b = 10\n",
    "print(a is b)\n",
    "print(a is not b)\n",
    "a = 1000\n",
    "b = 1000\n",
    "print(a is b)\n",
    "print(a is not b)"
   ]
  },
  {
   "cell_type": "markdown",
   "metadata": {},
   "source": [
    "### Q10. What is the output of expression inside print statement. Cross check before running the program."
   ]
  },
  {
   "cell_type": "code",
   "execution_count": 44,
   "metadata": {},
   "outputs": [
    {
     "name": "stdout",
     "output_type": "stream",
     "text": [
      "20\n"
     ]
    }
   ],
   "source": [
    "print ( 10 +( 10 * 32 )// 2 ** 5 & 20 +(~( -10 ))<< 2 )"
   ]
  },
  {
   "cell_type": "markdown",
   "metadata": {},
   "source": [
    "### Q11. Membership operation in, not in are two membership operators and it returns boolean value."
   ]
  },
  {
   "cell_type": "code",
   "execution_count": 45,
   "metadata": {},
   "outputs": [
    {
     "name": "stdout",
     "output_type": "stream",
     "text": [
      "True\n",
      "True\n",
      "True\n",
      "True\n",
      "True\n",
      "True\n"
     ]
    }
   ],
   "source": [
    "print ( '2' in 'Python2.7.8' )\n",
    "print ( 10 in [ 10 , 10.20 , 10 + 20j , 'Python' ])\n",
    "print ( 10 in ( 10 , 10.20 , 10 + 20j , 'Python' ))\n",
    "print ( 2 in { 1 , 2 , 3 })\n",
    "print ( 3 in { 1 : 100 , 2 : 200 , 3 : 300 })\n",
    "print ( 10 in range ( 20 ))"
   ]
  },
  {
   "cell_type": "markdown",
   "metadata": {},
   "source": [
    "### Q12. An integer can be represented in binary, octal or hexadecimal form. Declare one binary, one octal and one hexadecimal value and store them in three different variables. Convert 9876 to its binary, octal and hexadecimal equivalent and print their corresponding value."
   ]
  },
  {
   "cell_type": "code",
   "execution_count": 48,
   "metadata": {},
   "outputs": [
    {
     "name": "stdout",
     "output_type": "stream",
     "text": [
      "0b10011010010100\n",
      "0o23224\n",
      "0x2694\n"
     ]
    }
   ],
   "source": [
    "x = bin(10)\n",
    "y = oct(9)\n",
    "z = hex(16)\n",
    "a = 9876\n",
    "print(bin(a))\n",
    "print(oct(a))\n",
    "print(hex(a))"
   ]
  },
  {
   "cell_type": "markdown",
   "metadata": {},
   "source": [
    "### Q13. What will be the output of following:-"
   ]
  },
  {
   "cell_type": "code",
   "execution_count": 63,
   "metadata": {},
   "outputs": [
    {
     "name": "stdout",
     "output_type": "stream",
     "text": [
      "80\n",
      "3870\n",
      "64222\n",
      "0b1010000\n",
      "0o7436\n",
      "0xfade\n",
      "0b1010000\n",
      "0b1111101011011110\n",
      "0o175336\n",
      "0o7436\n",
      "0x50\n",
      "0xfade\n"
     ]
    }
   ],
   "source": [
    "a = 0b1010000\n",
    "print (a)\n",
    "b = 0o7436\n",
    "print (b)\n",
    "c = 0xfade\n",
    "print (c)\n",
    "print ( bin ( 80 ))\n",
    "print ( oct ( 3870 ))\n",
    "print ( hex ( 64222 ))\n",
    "print ( bin ( 0b1010000))\n",
    "print ( bin ( 0xfade ))\n",
    "print ( oct ( 0xfade ))\n",
    "print ( oct ( 0o7436))\n",
    "print ( hex ( 0b1010000))\n",
    "print ( hex ( 0xfade ))"
   ]
  }
 ],
 "metadata": {
  "kernelspec": {
   "display_name": "Python 3",
   "language": "python",
   "name": "python3"
  },
  "language_info": {
   "codemirror_mode": {
    "name": "ipython",
    "version": 3
   },
   "file_extension": ".py",
   "mimetype": "text/x-python",
   "name": "python",
   "nbconvert_exporter": "python",
   "pygments_lexer": "ipython3",
   "version": "3.8.5"
  }
 },
 "nbformat": 4,
 "nbformat_minor": 4
}
