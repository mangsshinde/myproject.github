{
 "cells": [
  {
   "cell_type": "markdown",
   "metadata": {},
   "source": [
    "### Q1. Declare a complex number and store it in a variable. Check the type and print the id of the same."
   ]
  },
  {
   "cell_type": "code",
   "execution_count": 1,
   "metadata": {},
   "outputs": [
    {
     "name": "stdout",
     "output_type": "stream",
     "text": [
      "(10+20j) The id of b is 140721635125488\n"
     ]
    }
   ],
   "source": [
    "a = 10+20j\n",
    "b = type(a)\n",
    "print(a,\"The id of b is\",id(b))"
   ]
  },
  {
   "cell_type": "markdown",
   "metadata": {},
   "source": [
    "### Q2. Arithmetic Operations on complex number. Take two different complex numbers."
   ]
  },
  {
   "cell_type": "code",
   "execution_count": 5,
   "metadata": {},
   "outputs": [
    {
     "name": "stdout",
     "output_type": "stream",
     "text": [
      "The sum of a and b is (20+0j)\n",
      "Difference between a amd b is 40j\n",
      "The product of a amd b is (500+0j)\n",
      "The value after dividing a by b is (-0.6+0.8j)\n",
      "The result of a to the power of b is (8.919898840557824e+22-9.353295730385182e+22j)\n"
     ]
    }
   ],
   "source": [
    "a = 10+20j\n",
    "b = 10-20j\n",
    "# Q2.1. Find sum of both numbers.\n",
    "c = a + b\n",
    "print(\"The sum of a and b is\",a+b)\n",
    "# Q2.2. Find difference between them.\n",
    "d = a - b\n",
    "print(\"Difference between a amd b is\",a-b)\n",
    "# Q2.3. Find the product of both numbers.\n",
    "e = a * b\n",
    "print(\"The product of a amd b is\",a*b)\n",
    "# Q2.4. Find value after dividing first num with second number.\n",
    "f = a/b\n",
    "print(\"The value after dividing a by b is\",a/b)\n",
    "# Q2.5. Find the result of the first num to the power of the second number..\n",
    "g = a**b\n",
    "print(\"The result of a to the power of b is\",a**b)"
   ]
  },
  {
   "cell_type": "markdown",
   "metadata": {},
   "source": [
    "### Q3. Equality Operator. Take two different complex numbers. Store them in two different variables. Equate them using equality operators (==, !=). Observe the output(return type should be boolean)"
   ]
  },
  {
   "cell_type": "code",
   "execution_count": 9,
   "metadata": {},
   "outputs": [
    {
     "name": "stdout",
     "output_type": "stream",
     "text": [
      "False\n",
      "True\n"
     ]
    }
   ],
   "source": [
    "a = 10 + 20J\n",
    "b = -20 + 5j\n",
    "print (a == b)\n",
    "print (a != b)"
   ]
  },
  {
   "cell_type": "markdown",
   "metadata": {},
   "source": [
    "### Q4. Logical operators. Observe the output of below code. Cross check the output manually"
   ]
  },
  {
   "cell_type": "code",
   "execution_count": 10,
   "metadata": {},
   "outputs": [
    {
     "name": "stdout",
     "output_type": "stream",
     "text": [
      "(20+30j)\n",
      "0j\n",
      "0j\n",
      "0j\n",
      "(10+20j)\n",
      "(20+30j)\n",
      "(20+30j)\n",
      "0j\n",
      "False\n",
      "True\n"
     ]
    }
   ],
   "source": [
    "print ( 10 + 20j and 20 + 30j )\n",
    "print ( 0 + 0j and 20 + 30j )\n",
    "print ( 20 + 30j and 0 + 0j )\n",
    "print ( 0 + 0j and 0 + 0j )\n",
    "print ( 10 + 20j or 20 + 30j )\n",
    "print ( 0 + 0j or 20 + 30j )\n",
    "print ( 20 + 30j or 0 + 0j )\n",
    "print ( 0 + 0j or 0 + 0j )\n",
    "print ( not 10 + 20j )\n",
    "print ( not 0 + 0j )"
   ]
  },
  {
   "cell_type": "markdown",
   "metadata": {},
   "source": [
    "### Q5. What is the output of the expression inside the print statement. Cross check before running the program."
   ]
  },
  {
   "cell_type": "code",
   "execution_count": 11,
   "metadata": {},
   "outputs": [
    {
     "name": "stdout",
     "output_type": "stream",
     "text": [
      "False\n",
      "True\n"
     ]
    }
   ],
   "source": [
    "a = 10 + 20j\n",
    "b = 10 + 20j\n",
    "print (a is b)\n",
    "print (a is not b)"
   ]
  },
  {
   "cell_type": "markdown",
   "metadata": {},
   "source": [
    "### Q6. Membership operation. in, not in are two membership operators and it returns boolean value"
   ]
  },
  {
   "cell_type": "code",
   "execution_count": 12,
   "metadata": {},
   "outputs": [
    {
     "name": "stdout",
     "output_type": "stream",
     "text": [
      "True\n",
      "True\n",
      "True\n",
      "True\n",
      "True\n",
      "True\n"
     ]
    }
   ],
   "source": [
    "print ( '2.7' in 'Python2.7.8' )\n",
    "print ( 10 + 20j in [ 10 , 10.20 , 10 + 20j , 'Python' ])\n",
    "print ( 10 + 20j in ( 10 , 10.20 , 10 + 20j , 'Python' ))\n",
    "print ( 30 + 40j in { 1 , 20.30 , 30 + 40j })\n",
    "print ( 30 + 40j in { 1 : 100 , 2.3 : 200 , 30 + 40j : 300 })\n",
    "print ( 10 in range ( 20 ))"
   ]
  }
 ],
 "metadata": {
  "kernelspec": {
   "display_name": "Python 3",
   "language": "python",
   "name": "python3"
  },
  "language_info": {
   "codemirror_mode": {
    "name": "ipython",
    "version": 3
   },
   "file_extension": ".py",
   "mimetype": "text/x-python",
   "name": "python",
   "nbconvert_exporter": "python",
   "pygments_lexer": "ipython3",
   "version": "3.8.5"
  }
 },
 "nbformat": 4,
 "nbformat_minor": 4
}
